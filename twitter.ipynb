{
 "cells": [
  {
   "cell_type": "code",
   "execution_count": 35,
   "metadata": {},
   "outputs": [],
   "source": [
    "import string\n",
    "import json\n",
    "from collections import Counter\n",
    "from nltk.tokenize import TweetTokenizer\n",
    "from nltk.corpus import stopwords\n",
    "import pandas as pd\n",
    "import string"
   ]
  },
  {
   "cell_type": "code",
   "execution_count": 85,
   "metadata": {},
   "outputs": [],
   "source": [
    "\n",
    "#nltk.download('stopwords<)\n",
    "word_adicionales = ['rt', 'https', 'http']\n",
    "stopword = stopwords.words('spanish') + list(string.punctuation) + word_adicionales"
   ]
  },
  {
   "cell_type": "code",
   "execution_count": 69,
   "metadata": {},
   "outputs": [],
   "source": [
    "import string"
   ]
  },
  {
   "cell_type": "code",
   "execution_count": 62,
   "metadata": {},
   "outputs": [],
   "source": [
    "def process(text, stopwords=[]):\n",
    "    text = text.lower()\n",
    "    tokens = nltk.word_tokenize(text)\n",
    "    return [tok for tok in tokens if tok not in stopwords and not tok.isdigit()]"
   ]
  },
  {
   "cell_type": "code",
   "execution_count": 119,
   "metadata": {},
   "outputs": [],
   "source": [
    "def buscar_tweet(text, words):\n",
    "    text = text.lower()\n",
    "    tokens = nltk.word_tokenize(text)\n",
    "    if [True for w in words if w in tokens]:\n",
    "        return text\n"
   ]
  },
  {
   "cell_type": "code",
   "execution_count": 158,
   "metadata": {},
   "outputs": [],
   "source": [
    "def count_words(text, stopwords=[], words_count=[]):\n",
    "    text = text.lower()\n",
    "    tokens = nltk.word_tokenize(text)\n",
    "    return [tok for tok in tokens if tok not in stopwords and not tok.isdigit() and tok in words_count]"
   ]
  },
  {
   "cell_type": "code",
   "execution_count": null,
   "metadata": {},
   "outputs": [],
   "source": [
    "data_path = \"data/tweet/user_@BederHerrera.jsonl\""
   ]
  },
  {
   "cell_type": "code",
   "execution_count": 164,
   "metadata": {},
   "outputs": [],
   "source": [
    "i = 0\n",
    "tokens = []\n",
    "with open(data_path, 'r') as f:\n",
    "    for line in f:\n",
    "        tweet = json.loads(line)\n",
    "        texto = tweet.get('text')\n",
    "        tokens = tokens + process(text=texto,stopwords=stopword)\n",
    "        i +=1"
   ]
  },
  {
   "cell_type": "code",
   "execution_count": 165,
   "metadata": {},
   "outputs": [],
   "source": [
    "i = 0\n",
    "tweets = []\n",
    "words = ['macri', '@mauriciomacri']\n",
    "with open(data_path, 'r') as f:\n",
    "    for line in f:\n",
    "        tweet = json.loads(line)\n",
    "        texto = tweet.get('text', '')\n",
    "        texto_tweets = [buscar_tweet(texto, words)]\n",
    "        if texto_tweets[0]:\n",
    "            tweets = tweets + texto_tweets\n",
    "        i +=1"
   ]
  },
  {
   "cell_type": "code",
   "execution_count": 173,
   "metadata": {},
   "outputs": [],
   "source": [
    "i = 0\n",
    "words_count = ['macri', 'gobierno', 'cristina', 'nestor']\n",
    "tokens_words = []\n",
    "with open(data_path, 'r') as f:\n",
    "    for line in f:\n",
    "        tweet = json.loads(line)\n",
    "        texto = tweet.get('text')\n",
    "        tokens_words = tokens_words + count_words(texto, stopwords=stopword, words_count=words_count)\n",
    "        i +=1"
   ]
  },
  {
   "cell_type": "code",
   "execution_count": 174,
   "metadata": {},
   "outputs": [
    {
     "data": {
      "text/plain": [
       "gobierno    63\n",
       "macri       35\n",
       "cristina     5\n",
       "nestor       1\n",
       "dtype: int64"
      ]
     },
     "execution_count": 174,
     "metadata": {},
     "output_type": "execute_result"
    }
   ],
   "source": [
    "pd.Series(tokens_words).value_counts()"
   ]
  },
  {
   "cell_type": "code",
   "execution_count": 139,
   "metadata": {},
   "outputs": [
    {
     "data": {
      "text/plain": [
       "bederherrera         933\n",
       "sergiogcasas         431\n",
       "``                   278\n",
       "rioja                265\n",
       "larioja              264\n",
       "beder                244\n",
       "germanlarioja        231\n",
       "''                   222\n",
       "herrera              175\n",
       "gobdelarioja         168\n",
       "hoy                  152\n",
       "javiertineo          151\n",
       "pj                   140\n",
       "nestorgbosetti       125\n",
       "junto                119\n",
       "...                  113\n",
       "provincia            112\n",
       "teresitamadera       107\n",
       "día                  104\n",
       "semana               102\n",
       "gobernador            87\n",
       "gente                 86\n",
       "dirdemedios           85\n",
       "política              84\n",
       "nacional              84\n",
       "trabajo               82\n",
       "q                     78\n",
       "danielscioli          75\n",
       "…                     75\n",
       "“                     74\n",
       "                    ... \n",
       "serias                 1\n",
       "//t.co/ze0up97xvx      1\n",
       "//t.co/yzf32f…         1\n",
       "comprender             1\n",
       "40º                    1\n",
       "proclamaran            1\n",
       "regresa                1\n",
       "estrategias            1\n",
       "//t.co/drffxpbjnc      1\n",
       "laborales              1\n",
       "entregar               1\n",
       "viajó                  1\n",
       "//t.co/ry5cggzvyt      1\n",
       "//t.co/liumjthg9q      1\n",
       "imp                    1\n",
       "//t.co/opcmtvebi9      1\n",
       "infantes               1\n",
       "reconociend…           1\n",
       "embajada               1\n",
       "recursos.https         1\n",
       "//t.co/2ayph…          1\n",
       "//t.co/cpqiqpvtbp      1\n",
       "//t.co/yfrlxqbbho      1\n",
       "//t.co/uaoy8xn1ta      1\n",
       "diadelamusica          1\n",
       "//t.co/tun9yzjgpe      1\n",
       "//t.co/j9cdihmgpt      1\n",
       "desigualdad            1\n",
       "//t.co/kfozhbqdac      1\n",
       "//t.co/ekpwdvffb4      1\n",
       "Length: 8631, dtype: int64"
      ]
     },
     "execution_count": 139,
     "metadata": {},
     "output_type": "execute_result"
    }
   ],
   "source": [
    "pd.Series(tokens).value_counts()"
   ]
  },
  {
   "cell_type": "code",
   "execution_count": null,
   "metadata": {},
   "outputs": [],
   "source": []
  },
  {
   "cell_type": "code",
   "execution_count": 25,
   "metadata": {},
   "outputs": [],
   "source": []
  },
  {
   "cell_type": "code",
   "execution_count": 30,
   "metadata": {},
   "outputs": [],
   "source": [
    "tweet = json.loads(line)\n",
    "tweet_tokenizer = TweetTokenizer()\n",
    "tokens = process(text=tweet.get('text', ''), tokenizer=tweet_tokenizer,stopwords=stopword)\n",
    "tf.update(tokens)"
   ]
  },
  {
   "cell_type": "code",
   "execution_count": 31,
   "metadata": {},
   "outputs": [
    {
     "data": {
      "text/plain": [
       "Counter({'#obelisco': 1,\n",
       "         '#parogeneralya': 1,\n",
       "         '.': 1,\n",
       "         '@pepsico_enlucha': 1,\n",
       "         'ahora': 1,\n",
       "         'combativo': 1,\n",
       "         'https://t.co/1upj5eu88v': 1,\n",
       "         'planteo': 1,\n",
       "         'sindicalismo': 1,\n",
       "         'trabajadores': 1})"
      ]
     },
     "execution_count": 31,
     "metadata": {},
     "output_type": "execute_result"
    }
   ],
   "source": [
    "tf"
   ]
  },
  {
   "cell_type": "code",
   "execution_count": null,
   "metadata": {},
   "outputs": [],
   "source": []
  }
 ],
 "metadata": {
  "kernelspec": {
   "display_name": "Python 3",
   "language": "python",
   "name": "python3"
  },
  "language_info": {
   "codemirror_mode": {
    "name": "ipython",
    "version": 3
   },
   "file_extension": ".py",
   "mimetype": "text/x-python",
   "name": "python",
   "nbconvert_exporter": "python",
   "pygments_lexer": "ipython3",
   "version": "3.5.3"
  }
 },
 "nbformat": 4,
 "nbformat_minor": 2
}
