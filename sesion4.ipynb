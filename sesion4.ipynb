{
 "cells": [
  {
   "cell_type": "markdown",
   "metadata": {},
   "source": [
    "# Cuarta sesión"
   ]
  },
  {
   "cell_type": "markdown",
   "metadata": {},
   "source": [
    "**Objetivos:** \n",
    "\n",
    "- Revisar trabajo con string\n",
    "- Importar un texto\n",
    "- instalar nltk\n",
    "- tokenizar el texto"
   ]
  },
  {
   "cell_type": "code",
   "execution_count": null,
   "metadata": {},
   "outputs": [],
   "source": [
    "import nltk\n",
    "from nltk.corpus import stopwords\n",
    "import pandas as pd\n",
    "import numpy as np\n",
    "import re\n",
    "import string\n",
    "\n",
    "import matplotlib.pyplot as plt"
   ]
  },
  {
   "cell_type": "markdown",
   "metadata": {},
   "source": [
    "## String\n",
    "\n",
    "Los string son una secuencia de caractéres y los caractéres son símbolos como por ejemplo:'-', 'a', '1', '\\n'; etc..\n",
    "Como los computadores entienden en binario, el proceso de pasar a un simbolo (caracter) se llama **codificar** y de un simbolo a bianrio **decodificar**. Las más usadas forma conversión son [ACII](http://www.asciitable.com/) y Unicode.  "
   ]
  },
  {
   "cell_type": "code",
   "execution_count": 9,
   "metadata": {},
   "outputs": [
    {
     "name": "stdout",
     "output_type": "stream",
     "text": [
      "la cadena es: \n"
     ]
    }
   ],
   "source": [
    "#algo de string\n",
    "string1 = \"\"\n",
    "\n",
    "print(\"la cadena es: {}\".format(string1))"
   ]
  },
  {
   "cell_type": "code",
   "execution_count": 12,
   "metadata": {},
   "outputs": [
    {
     "name": "stdout",
     "output_type": "stream",
     "text": [
      "la cadena es: La bicileta blanca\n"
     ]
    }
   ],
   "source": [
    "string2 = \"La bicileta blanca\"\n",
    "print(\"la cadena es: {}\".format(string2))"
   ]
  },
  {
   "cell_type": "code",
   "execution_count": 15,
   "metadata": {},
   "outputs": [
    {
     "data": {
      "text/plain": [
       "'L'"
      ]
     },
     "execution_count": 15,
     "metadata": {},
     "output_type": "execute_result"
    }
   ],
   "source": [
    "string2[0]"
   ]
  },
  {
   "cell_type": "code",
   "execution_count": 16,
   "metadata": {},
   "outputs": [
    {
     "data": {
      "text/plain": [
       "'La'"
      ]
     },
     "execution_count": 16,
     "metadata": {},
     "output_type": "execute_result"
    }
   ],
   "source": [
    "string2[0:2]"
   ]
  },
  {
   "cell_type": "code",
   "execution_count": null,
   "metadata": {},
   "outputs": [],
   "source": [
    "# podría seleccionar bicileta?\n",
    "\n",
    "#string2[??????]"
   ]
  },
  {
   "cell_type": "markdown",
   "metadata": {},
   "source": [
    "## algunas operaciones más con string"
   ]
  },
  {
   "cell_type": "code",
   "execution_count": 23,
   "metadata": {},
   "outputs": [
    {
     "name": "stdout",
     "output_type": "stream",
     "text": [
      "Las Manos de Filippi tiene un disco que se llama: M.A.C.R.I:  \"Mente anti capitalista revolucionaria internacional\"\n"
     ]
    }
   ],
   "source": [
    "# concatenar string\n",
    "#string1 + string2\n",
    "\n",
    "palabra1 = \"M.A.C.R.I\"\n",
    "palabra2 = ' \"Mente anti capitalista revolucionaria internacional\"'\n",
    "\n",
    "print(\"Las Manos de Filippi tiene un disco que se llama: {}\".format(palabra1 + \": \"+ palabra2))"
   ]
  },
  {
   "cell_type": "code",
   "execution_count": 27,
   "metadata": {},
   "outputs": [
    {
     "data": {
      "text/plain": [
       "'HOLACOSMOS'"
      ]
     },
     "execution_count": 27,
     "metadata": {},
     "output_type": "execute_result"
    }
   ],
   "source": [
    "S1 = \"HOLA\"\n",
    "S2 = \"COSMOS\"\n",
    "\n",
    "S1 + S2\n",
    "#falta un espacio?"
   ]
  },
  {
   "cell_type": "code",
   "execution_count": 29,
   "metadata": {},
   "outputs": [
    {
     "data": {
      "text/plain": [
       "'hola cosmos'"
      ]
     },
     "execution_count": 29,
     "metadata": {},
     "output_type": "execute_result"
    }
   ],
   "source": [
    "# no me girtes!!!!\n",
    "s1 = S1.lower()\n",
    "s2 = S2.lower()\n",
    "\n",
    "s1 + \" \" + s2"
   ]
  },
  {
   "cell_type": "code",
   "execution_count": 39,
   "metadata": {},
   "outputs": [
    {
     "data": {
      "text/plain": [
       "'no puedes ser feliz; con tanta gente hablando; hablando a tu alrededor; '"
      ]
     },
     "execution_count": 39,
     "metadata": {},
     "output_type": "execute_result"
    }
   ],
   "source": [
    "#Estrofa: un grupo de versos seguidos de un punto aparte,de un punto seguido o un punto y coma ...\n",
    "versos_cancion = [\"no puedes ser feliz\", \"con tanta gente hablando\", \"hablando a tu alrededor\"]\n",
    "estrofa = \"\"\n",
    "for verso in versos_cancion:\n",
    "    estrofa += verso + \"; \"\n",
    "\n",
    "estrofa"
   ]
  },
  {
   "cell_type": "code",
   "execution_count": 38,
   "metadata": {},
   "outputs": [
    {
     "data": {
      "text/plain": [
       "'no puedes ser feliz, con tanta gente hablando, hablando a tu alrededor'"
      ]
     },
     "execution_count": 38,
     "metadata": {},
     "output_type": "execute_result"
    }
   ],
   "source": [
    "# y el join\n",
    "\"; \".join(versos_cancion)"
   ]
  },
  {
   "cell_type": "markdown",
   "metadata": {},
   "source": [
    "## leyendo un archivo txt\n",
    "\n",
    "Los archivos se deben leer linea a linea. "
   ]
  },
  {
   "cell_type": "code",
   "execution_count": 17,
   "metadata": {},
   "outputs": [],
   "source": [
    "fname = \"data/ante_laley.txt\"\n",
    "cuento = \"\"\n",
    "with open(fname, 'r') as f:\n",
    "    for line in f:\n",
    "        cuento += line\n",
    "        "
   ]
  },
  {
   "cell_type": "code",
   "execution_count": 26,
   "metadata": {},
   "outputs": [
    {
     "name": "stdout",
     "output_type": "stream",
     "text": [
      "El relato tiene 3325 caracteres\n"
     ]
    }
   ],
   "source": [
    "#cuán extenso es el relato\n",
    "print(\"El relato tiene {} caracteres\".format(len(cuento)))"
   ]
  },
  {
   "cell_type": "code",
   "execution_count": 27,
   "metadata": {},
   "outputs": [],
   "source": [
    "#tokenizar texto\n",
    "\n",
    "token_relato = nltk.word_tokenize(cuento)"
   ]
  },
  {
   "cell_type": "code",
   "execution_count": 31,
   "metadata": {},
   "outputs": [
    {
     "data": {
      "text/plain": [
       "['Ante', 'la', 'ley', 'hay', 'un', 'guardián', '.', 'Un', 'campesino', 'se']"
      ]
     },
     "execution_count": 31,
     "metadata": {},
     "output_type": "execute_result"
    }
   ],
   "source": [
    "token_relato[:10]"
   ]
  },
  {
   "cell_type": "code",
   "execution_count": 39,
   "metadata": {},
   "outputs": [
    {
     "data": {
      "text/plain": [
       "['de', 'la', 'que', 'el', 'en', 'y', 'a', 'los', 'del', 'se']"
      ]
     },
     "execution_count": 39,
     "metadata": {},
     "output_type": "execute_result"
    }
   ],
   "source": [
    "stopword = stopwords.words('spanish')\n",
    "stopword[:10]"
   ]
  },
  {
   "cell_type": "code",
   "execution_count": 49,
   "metadata": {},
   "outputs": [
    {
     "data": {
      "text/plain": [
       ",           39\n",
       ".           31\n",
       "que         24\n",
       "de          21\n",
       "y           18\n",
       "el          17\n",
       "guardián    17\n",
       "la          14\n",
       "a           13\n",
       "para        11\n",
       "se          11\n",
       "le          11\n",
       "su          10\n",
       "en           8\n",
       "no           8\n",
       "dtype: int64"
      ]
     },
     "execution_count": 49,
     "metadata": {},
     "output_type": "execute_result"
    }
   ],
   "source": [
    "pd.Series(token_relato).value_counts().head(15)"
   ]
  },
  {
   "cell_type": "code",
   "execution_count": 44,
   "metadata": {},
   "outputs": [],
   "source": [
    "# pasndo a minusculas\n",
    "relato =  [ palabra.lower() for palabra in token_relato]"
   ]
  },
  {
   "cell_type": "code",
   "execution_count": 50,
   "metadata": {},
   "outputs": [
    {
     "data": {
      "text/plain": [
       ",           39\n",
       ".           31\n",
       "que         24\n",
       "el          24\n",
       "de          21\n",
       "y           19\n",
       "guardián    17\n",
       "la          15\n",
       "a           13\n",
       "se          11\n",
       "le          11\n",
       "para        11\n",
       "su          10\n",
       "en           8\n",
       "no           8\n",
       "dtype: int64"
      ]
     },
     "execution_count": 50,
     "metadata": {},
     "output_type": "execute_result"
    }
   ],
   "source": [
    "pd.Series(relato).value_counts().head(15)"
   ]
  },
  {
   "cell_type": "code",
   "execution_count": 51,
   "metadata": {},
   "outputs": [],
   "source": [
    "# pasndo a minusculas\n",
    "relato =  [ palabra.lower() for palabra in token_relato if palabra not in stopword]"
   ]
  },
  {
   "cell_type": "code",
   "execution_count": 53,
   "metadata": {},
   "outputs": [
    {
     "data": {
      "text/plain": [
       ",           39\n",
       ".           31\n",
       "guardián    17\n",
       "entrar       7\n",
       "el           7\n",
       "ley          7\n",
       "ahora        5\n",
       ";            5\n",
       "hombre       5\n",
       "años         5\n",
       "dtype: int64"
      ]
     },
     "execution_count": 53,
     "metadata": {},
     "output_type": "execute_result"
    }
   ],
   "source": [
    "pd.Series(relato).value_counts().head(10)"
   ]
  },
  {
   "cell_type": "code",
   "execution_count": 60,
   "metadata": {},
   "outputs": [
    {
     "data": {
      "text/plain": [
       "['[', '\\\\', ']', '^', '_', '`', '{', '|', '}', '~']"
      ]
     },
     "execution_count": 60,
     "metadata": {},
     "output_type": "execute_result"
    }
   ],
   "source": [
    "stopword = stopwords.words('spanish') + list(string.punctuation)\n",
    "stopword[-10:]"
   ]
  },
  {
   "cell_type": "code",
   "execution_count": 61,
   "metadata": {},
   "outputs": [],
   "source": [
    "# pasndo a minusculas\n",
    "relato =  [ palabra.lower() for palabra in token_relato if palabra not in stopword]"
   ]
  },
  {
   "cell_type": "code",
   "execution_count": 64,
   "metadata": {},
   "outputs": [],
   "source": [
    "relato_serie = pd.Series(relato).value_counts().head(10)"
   ]
  },
  {
   "cell_type": "code",
   "execution_count": 89,
   "metadata": {},
   "outputs": [
    {
     "data": {
      "image/png": "[encoded data removed]",
      "text/plain": [
       "<Figure size 432x288 with 1 Axes>"
      ]
     },
     "metadata": {},
     "output_type": "display_data"
    }
   ],
   "source": [
    "relato_serie[:5].plot(\"bar\")\n",
    "plt.grid(True)"
   ]
  },
  {
   "cell_type": "code",
   "execution_count": 91,
   "metadata": {},
   "outputs": [],
   "source": [
    "total = relato_serie.sum()\n"
   ]
  },
  {
   "cell_type": "code",
   "execution_count": 94,
   "metadata": {},
   "outputs": [],
   "source": [
    "freq_relato = relato_serie.div(total) *100\n"
   ]
  },
  {
   "cell_type": "code",
   "execution_count": 95,
   "metadata": {},
   "outputs": [
    {
     "data": {
      "image/png": "[encoded data removed]",
      "text/plain": [
       "<Figure size 432x288 with 1 Axes>"
      ]
     },
     "metadata": {},
     "output_type": "display_data"
    }
   ],
   "source": [
    "freq_relato.plot(\"bar\")\n",
    "plt.grid(True)"
   ]
  },
  {
   "cell_type": "code",
   "execution_count": null,
   "metadata": {},
   "outputs": [],
   "source": []
  }
 ],
 "metadata": {
  "kernelspec": {
   "display_name": "Python 3",
   "language": "python",
   "name": "python3"
  },
  "language_info": {
   "codemirror_mode": {
    "name": "ipython",
    "version": 2
   },
   "file_extension": ".py",
   "mimetype": "text/x-python",
   "name": "python",
   "nbconvert_exporter": "python",
   "pygments_lexer": "ipython2",
   "version": "2.7.13"
  }
 },
 "nbformat": 4,
 "nbformat_minor": 2
}
