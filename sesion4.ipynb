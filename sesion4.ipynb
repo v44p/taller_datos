{
 "cells": [
  {
   "cell_type": "markdown",
   "metadata": {},
   "source": [
    "# Cuarta sesión"
   ]
  },
  {
   "cell_type": "markdown",
   "metadata": {},
   "source": [
    "**Objetivos:** \n",
    "\n",
    "- Revisar trabajo con string\n",
    "- Importar un texto\n",
    "- instalar nltk\n",
    "- tokenizar el texto"
   ]
  },
  {
   "cell_type": "code",
   "execution_count": 33,
   "metadata": {},
   "outputs": [],
   "source": [
    "import nltk\n",
    "from nltk.corpus import stopwords\n",
    "import pandas as pd\n",
    "import numpy as np\n",
    "import re\n",
    "import string\n",
    "\n",
    "import matplotlib.pyplot as plt"
   ]
  },
  {
   "cell_type": "markdown",
   "metadata": {},
   "source": [
    "## String\n",
    "\n",
    "Los string son una secuencia de caractéres y los caractéres son símbolos como por ejemplo:'-', 'a', '1', '\\n'; etc..\n",
    "Como los computadores entienden en binario, el proceso de pasar a un simbolo (caracter) se llama **codificar** y de un simbolo a bianrio **decodificar**. Las más usadas forma conversión son [ASCII](http://www.asciitable.com/) y Unicode.  "
   ]
  },
  {
   "cell_type": "code",
   "execution_count": 1,
   "metadata": {},
   "outputs": [
    {
     "name": "stdout",
     "output_type": "stream",
     "text": [
      "la cadena es: \n"
     ]
    }
   ],
   "source": [
    "#algo de string\n",
    "string1 = \"\"\n",
    "\n",
    "print(\"la cadena es: {}\".format(string1))"
   ]
  },
  {
   "cell_type": "code",
   "execution_count": 2,
   "metadata": {},
   "outputs": [
    {
     "name": "stdout",
     "output_type": "stream",
     "text": [
      "la cadena es: La bicileta blanca\n"
     ]
    }
   ],
   "source": [
    "string2 = \"La bicileta blanca\"\n",
    "print(\"la cadena es: {}\".format(string2))"
   ]
  },
  {
   "cell_type": "code",
   "execution_count": 3,
   "metadata": {},
   "outputs": [
    {
     "data": {
      "text/plain": [
       "'L'"
      ]
     },
     "execution_count": 3,
     "metadata": {},
     "output_type": "execute_result"
    }
   ],
   "source": [
    "string2[0]"
   ]
  },
  {
   "cell_type": "code",
   "execution_count": 4,
   "metadata": {},
   "outputs": [
    {
     "data": {
      "text/plain": [
       "'La'"
      ]
     },
     "execution_count": 4,
     "metadata": {},
     "output_type": "execute_result"
    }
   ],
   "source": [
    "string2[0:2]"
   ]
  },
  {
   "cell_type": "code",
   "execution_count": 6,
   "metadata": {},
   "outputs": [
    {
     "data": {
      "text/plain": [
       "'bicileta'"
      ]
     },
     "execution_count": 6,
     "metadata": {},
     "output_type": "execute_result"
    }
   ],
   "source": [
    "# podría seleccionar bicileta?\n",
    "\n",
    "string2[3:11]"
   ]
  },
  {
   "cell_type": "code",
   "execution_count": 8,
   "metadata": {},
   "outputs": [
    {
     "data": {
      "text/plain": [
       "'bicileta'"
      ]
     },
     "execution_count": 8,
     "metadata": {},
     "output_type": "execute_result"
    }
   ],
   "source": [
    "# split \n",
    "string2.split(\" \")[1]"
   ]
  },
  {
   "cell_type": "markdown",
   "metadata": {},
   "source": [
    "## algunas operaciones más con string"
   ]
  },
  {
   "cell_type": "code",
   "execution_count": 15,
   "metadata": {},
   "outputs": [
    {
     "name": "stdout",
     "output_type": "stream",
     "text": [
      "Las Manos de Filippi tiene un disco que se llama:M.A.C.R.I:\"Mente anti capitalista revolucionaria internacional\"\n"
     ]
    }
   ],
   "source": [
    "# concatenar string\n",
    "#string1 + string2\n",
    "\n",
    "palabra1 = \"M.A.C.R.I\"\n",
    "palabra2 = '\"Mente anti capitalista revolucionaria internacional\"'\n",
    "\n",
    "print(\"Las Manos de Filippi tiene un disco que se llama:{}\".format(palabra1 + \":\"+ palabra2))"
   ]
  },
  {
   "cell_type": "code",
   "execution_count": 18,
   "metadata": {},
   "outputs": [
    {
     "data": {
      "text/plain": [
       "'HOLA COSMOS'"
      ]
     },
     "execution_count": 18,
     "metadata": {},
     "output_type": "execute_result"
    }
   ],
   "source": [
    "S1 = \"HOLA\"\n",
    "S2 = \"COSMOS\"\n",
    "\n",
    "S1 + \" \" + S2\n",
    "#falta un espacio?"
   ]
  },
  {
   "cell_type": "code",
   "execution_count": 19,
   "metadata": {},
   "outputs": [
    {
     "data": {
      "text/plain": [
       "'hola cosmos'"
      ]
     },
     "execution_count": 19,
     "metadata": {},
     "output_type": "execute_result"
    }
   ],
   "source": [
    "# no me girtes!!!!\n",
    "s1 = S1.lower()\n",
    "s2 = S2.lower()\n",
    "\n",
    "s1 + \" \" + s2"
   ]
  },
  {
   "cell_type": "code",
   "execution_count": 22,
   "metadata": {},
   "outputs": [
    {
     "data": {
      "text/plain": [
       "'no puedes ser feliz; con tanta gente hablando; hablando a tu alrededor; '"
      ]
     },
     "execution_count": 22,
     "metadata": {},
     "output_type": "execute_result"
    }
   ],
   "source": [
    "#Estrofa: un grupo de versos seguidos de un punto aparte,de un punto seguido o un punto y coma ...\n",
    "versos_cancion = [\"no puedes ser feliz\", \"con tanta gente hablando\", \"hablando a tu alrededor\"]\n",
    "estrofa = \"\"\n",
    "for verso in versos_cancion:\n",
    "    estrofa += verso + \"; \"\n",
    "\n",
    "estrofa"
   ]
  },
  {
   "cell_type": "code",
   "execution_count": 23,
   "metadata": {},
   "outputs": [
    {
     "data": {
      "text/plain": [
       "'no puedes ser feliz; con tanta gente hablando; hablando a tu alrededor'"
      ]
     },
     "execution_count": 23,
     "metadata": {},
     "output_type": "execute_result"
    }
   ],
   "source": [
    "# y el join\n",
    "\"; \".join(versos_cancion)"
   ]
  },
  {
   "cell_type": "markdown",
   "metadata": {},
   "source": [
    "## leyendo un archivo txt\n",
    "\n",
    "Los archivos se deben leer linea a linea. "
   ]
  },
  {
   "cell_type": "code",
   "execution_count": 24,
   "metadata": {},
   "outputs": [],
   "source": [
    "fname = \"data/ante_laley.txt\"\n",
    "cuento = \"\"\n",
    "with open(fname, 'r') as f:\n",
    "    for line in f:\n",
    "        cuento += line\n",
    "        "
   ]
  },
  {
   "cell_type": "code",
   "execution_count": 29,
   "metadata": {},
   "outputs": [
    {
     "data": {
      "text/plain": [
       "'Ante la ley hay un guardián. Un campesino se presenta frente a este guardián, y solicita que le permita entrar en la Ley. Pero el guardián contesta que por ahora no puede dejarlo entrar. El hombre reflexiona y pregunta si más tarde lo dejarán entrar.\\n\\n-Tal vez -dice el centinela- pero no por ahora.\\n\\nLa puerta que da a la Ley está abierta, como de costumbre; cuando el guardián se hace a un lado, el hombre se inclina para espiar. El guardián lo ve, se sonríe y le dice:\\n\\n-Si tu deseo es tan grande haz la prueba de entrar a pesar de mi prohibición. Pero recuerda que soy poderoso. Y sólo soy el último de los guardianes. Entre salón y salón también hay guardianes, cada uno más poderoso que el otro. Ya el tercer guardián es tan terrible que no puedo mirarlo siquiera.\\n\\nEl campesino no había previsto estas dificultades; la Ley debería ser siempre accesible para todos, piensa, pero al fijarse en el guardián, con su abrigo de pieles, su nariz grande y aguileña, su barba negra de tártaro, rala y n'"
      ]
     },
     "execution_count": 29,
     "metadata": {},
     "output_type": "execute_result"
    }
   ],
   "source": [
    "cuento[:1000]"
   ]
  },
  {
   "cell_type": "code",
   "execution_count": 31,
   "metadata": {},
   "outputs": [
    {
     "name": "stdout",
     "output_type": "stream",
     "text": [
      "El relato tiene 3325 caracteres\n"
     ]
    }
   ],
   "source": [
    "#cuán extenso es el relato\n",
    "print(\"El relato tiene {} caracteres\".format(len(cuento)))"
   ]
  },
  {
   "cell_type": "code",
   "execution_count": 34,
   "metadata": {},
   "outputs": [],
   "source": [
    "#tokenizar texto\n",
    "\n",
    "token_relato = nltk.word_tokenize(cuento)"
   ]
  },
  {
   "cell_type": "code",
   "execution_count": 40,
   "metadata": {},
   "outputs": [
    {
     "data": {
      "text/plain": [
       "['Ante',\n",
       " 'la',\n",
       " 'ley',\n",
       " 'hay',\n",
       " 'un',\n",
       " 'guardián',\n",
       " '.',\n",
       " 'Un',\n",
       " 'campesino',\n",
       " 'se',\n",
       " 'presenta',\n",
       " 'frente',\n",
       " 'a',\n",
       " 'este',\n",
       " 'guardián',\n",
       " ',',\n",
       " 'y',\n",
       " 'solicita',\n",
       " 'que',\n",
       " 'le']"
      ]
     },
     "execution_count": 40,
     "metadata": {},
     "output_type": "execute_result"
    }
   ],
   "source": [
    "token_relato[:20]"
   ]
  },
  {
   "cell_type": "code",
   "execution_count": null,
   "metadata": {},
   "outputs": [],
   "source": [
    "#stopword = stopwords.words('spanish')\n",
    "#stopword[:10]"
   ]
  },
  {
   "cell_type": "code",
   "execution_count": null,
   "metadata": {},
   "outputs": [],
   "source": [
    "nltk.download('punkt')\n"
   ]
  },
  {
   "cell_type": "code",
   "execution_count": null,
   "metadata": {},
   "outputs": [],
   "source": [
    "nltk.download('stopwords')"
   ]
  },
  {
   "cell_type": "code",
   "execution_count": 44,
   "metadata": {},
   "outputs": [
    {
     "data": {
      "text/plain": [
       "['hola', ':', 'cómo', 'estas', '?']"
      ]
     },
     "execution_count": 44,
     "metadata": {},
     "output_type": "execute_result"
    }
   ],
   "source": [
    "nltk.word_tokenize(\"hola: cómo estas ? \")"
   ]
  },
  {
   "cell_type": "code",
   "execution_count": 47,
   "metadata": {},
   "outputs": [
    {
     "data": {
      "text/plain": [
       ",           39\n",
       ".           31\n",
       "que         24\n",
       "de          21\n",
       "y           18\n",
       "el          17\n",
       "guardián    17\n",
       "la          14\n",
       "a           13\n",
       "le          11\n",
       "se          11\n",
       "para        11\n",
       "su          10\n",
       "en           8\n",
       "no           8\n",
       "dtype: int64"
      ]
     },
     "execution_count": 47,
     "metadata": {},
     "output_type": "execute_result"
    }
   ],
   "source": [
    "pd.Series(token_relato).value_counts().head(15)"
   ]
  },
  {
   "cell_type": "code",
   "execution_count": 80,
   "metadata": {},
   "outputs": [],
   "source": [
    "# pasndo a minusculas\n",
    "relato =  [palabra.lower() for palabra in token_relato]"
   ]
  },
  {
   "cell_type": "code",
   "execution_count": null,
   "metadata": {},
   "outputs": [],
   "source": []
  },
  {
   "cell_type": "code",
   "execution_count": 81,
   "metadata": {},
   "outputs": [
    {
     "data": {
      "text/plain": [
       ",           39\n",
       ".           31\n",
       "que         24\n",
       "el          24\n",
       "de          21\n",
       "y           19\n",
       "guardián    17\n",
       "la          15\n",
       "a           13\n",
       "le          11\n",
       "para        11\n",
       "se          11\n",
       "su          10\n",
       "no           8\n",
       "en           8\n",
       "dtype: int64"
      ]
     },
     "execution_count": 81,
     "metadata": {},
     "output_type": "execute_result"
    }
   ],
   "source": [
    "pd.Series(relato).value_counts().head(15)"
   ]
  },
  {
   "cell_type": "code",
   "execution_count": 94,
   "metadata": {},
   "outputs": [],
   "source": [
    "# pasndo a minusculas\n",
    "token_relato = [palabra.lower() for palabra in token_relato]\n",
    "lista_buscar = [\"campesino\", \"ley\",\"prueba\", \"Ley\"]\n",
    "relato_aux =  [palabra.lower() for palabra in token_relato if palabra in lista_buscar]"
   ]
  },
  {
   "cell_type": "code",
   "execution_count": 95,
   "metadata": {},
   "outputs": [
    {
     "data": {
      "text/plain": [
       "ley          7\n",
       "campesino    3\n",
       "prueba       1\n",
       "dtype: int64"
      ]
     },
     "execution_count": 95,
     "metadata": {},
     "output_type": "execute_result"
    }
   ],
   "source": [
    "pd.Series(relato_aux).value_counts().head(10)"
   ]
  },
  {
   "cell_type": "code",
   "execution_count": 50,
   "metadata": {},
   "outputs": [],
   "source": [
    "# pasndo a minusculas\n",
    "relato =  [ palabra.lower() for palabra in token_relato if palabra not in stopword]"
   ]
  },
  {
   "cell_type": "code",
   "execution_count": null,
   "metadata": {},
   "outputs": [],
   "source": []
  },
  {
   "cell_type": "code",
   "execution_count": 51,
   "metadata": {},
   "outputs": [
    {
     "data": {
      "text/plain": [
       ",           39\n",
       ".           31\n",
       "guardián    17\n",
       "ley          7\n",
       "entrar       7\n",
       "el           7\n",
       "ahora        5\n",
       "hombre       5\n",
       "años         5\n",
       ";            5\n",
       "dtype: int64"
      ]
     },
     "execution_count": 51,
     "metadata": {},
     "output_type": "execute_result"
    }
   ],
   "source": [
    "pd.Series(relato).value_counts().head(10)"
   ]
  },
  {
   "cell_type": "code",
   "execution_count": 52,
   "metadata": {},
   "outputs": [
    {
     "data": {
      "text/plain": [
       "'!\"#$%&\\'()*+,-./:;<=>?@[\\\\]^_`{|}~'"
      ]
     },
     "execution_count": 52,
     "metadata": {},
     "output_type": "execute_result"
    }
   ],
   "source": [
    "string.punctuation"
   ]
  },
  {
   "cell_type": "code",
   "execution_count": 56,
   "metadata": {},
   "outputs": [
    {
     "data": {
      "text/plain": [
       "['de', 'la', 'que', 'el', 'en', 'y', 'a', 'los', 'del', 'se']"
      ]
     },
     "execution_count": 56,
     "metadata": {},
     "output_type": "execute_result"
    }
   ],
   "source": [
    "stopword = stopwords.words('spanish') + list(string.punctuation)\n",
    "stopword[:10]"
   ]
  },
  {
   "cell_type": "code",
   "execution_count": 78,
   "metadata": {},
   "outputs": [],
   "source": [
    "# pasndo a minusculas\n",
    "relato =  [ palabra.lower() for palabra in token_relato if palabra not in stopword]"
   ]
  },
  {
   "cell_type": "code",
   "execution_count": 79,
   "metadata": {},
   "outputs": [
    {
     "data": {
      "text/plain": [
       "guardián    17\n",
       "entrar       7\n",
       "el           7\n",
       "ley          7\n",
       "años         5\n",
       "ahora        5\n",
       "hombre       5\n",
       "dice         3\n",
       "sólo         3\n",
       "hace         3\n",
       "dtype: int64"
      ]
     },
     "execution_count": 79,
     "metadata": {},
     "output_type": "execute_result"
    }
   ],
   "source": [
    "relato_serie = pd.Series(relato).value_counts().head(10)\n",
    "relato_serie"
   ]
  },
  {
   "cell_type": "code",
   "execution_count": 63,
   "metadata": {},
   "outputs": [
    {
     "data": {
      "image/png": "[encoded data removed]",
      "text/plain": [
       "<Figure size 432x288 with 1 Axes>"
      ]
     },
     "metadata": {},
     "output_type": "display_data"
    }
   ],
   "source": [
    "relato_serie[:5].plot(\"bar\")\n",
    "plt.grid(True)"
   ]
  },
  {
   "cell_type": "code",
   "execution_count": 65,
   "metadata": {},
   "outputs": [
    {
     "data": {
      "text/plain": [
       "62"
      ]
     },
     "execution_count": 65,
     "metadata": {},
     "output_type": "execute_result"
    }
   ],
   "source": [
    "total = relato_serie.sum()\n",
    "total\n"
   ]
  },
  {
   "cell_type": "code",
   "execution_count": 66,
   "metadata": {},
   "outputs": [
    {
     "data": {
      "text/plain": [
       "guardián    27.419355\n",
       "entrar      11.290323\n",
       "el          11.290323\n",
       "ley         11.290323\n",
       "años         8.064516\n",
       "ahora        8.064516\n",
       "hombre       8.064516\n",
       "dice         4.838710\n",
       "sólo         4.838710\n",
       "hace         4.838710\n",
       "dtype: float64"
      ]
     },
     "execution_count": 66,
     "metadata": {},
     "output_type": "execute_result"
    }
   ],
   "source": [
    "freq_relato = relato_serie.div(total) *100\n",
    "freq_relato\n"
   ]
  },
  {
   "cell_type": "code",
   "execution_count": 77,
   "metadata": {},
   "outputs": [
    {
     "data": {
      "text/plain": [
       "guardián    17\n",
       "entrar       7\n",
       "el           7\n",
       "ley          7\n",
       "años         5\n",
       "ahora        5\n",
       "hombre       5\n",
       "dice         3\n",
       "sólo         3\n",
       "hace         3\n",
       "dtype: int64"
      ]
     },
     "execution_count": 77,
     "metadata": {},
     "output_type": "execute_result"
    }
   ],
   "source": [
    "relato_serie"
   ]
  },
  {
   "cell_type": "code",
   "execution_count": 75,
   "metadata": {},
   "outputs": [
    {
     "data": {
      "image/png": "[encoded data removed]",
      "text/plain": [
       "<Figure size 432x288 with 1 Axes>"
      ]
     },
     "metadata": {},
     "output_type": "display_data"
    }
   ],
   "source": [
    "freq_relato.plot(\"bar\")\n",
    "plt.grid(False)\n",
    "plt.xlabel('Palabras')\n",
    "plt.ylabel('$ \\% $')\n",
    "plt.title('Palabras frecuentes del relato')\n",
    "plt.show()"
   ]
  },
  {
   "cell_type": "code",
   "execution_count": null,
   "metadata": {},
   "outputs": [],
   "source": [
    "%matplotlib inline"
   ]
  }
 ],
 "metadata": {
  "kernelspec": {
   "display_name": "Python 3",
   "language": "python",
   "name": "python3"
  },
  "language_info": {
   "codemirror_mode": {
    "name": "ipython",
    "version": 3
   },
   "file_extension": ".py",
   "mimetype": "text/x-python",
   "name": "python",
   "nbconvert_exporter": "python",
   "pygments_lexer": "ipython3",
   "version": "3.5.3"
  }
 },
 "nbformat": 4,
 "nbformat_minor": 2
}
