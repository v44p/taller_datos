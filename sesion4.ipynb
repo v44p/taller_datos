{
 "cells": [
  {
   "cell_type": "markdown",
   "metadata": {},
   "source": [
    "# Cuarta sesión"
   ]
  },
  {
   "cell_type": "markdown",
   "metadata": {},
   "source": [
    "**Objetivos:** \n",
    "\n",
    "- Revisar trabajo con string\n",
    "- Importar un texto\n",
    "- instalar nltk\n",
    "- tokenizar el texto"
   ]
  },
  {
   "cell_type": "code",
   "execution_count": null,
   "metadata": {},
   "outputs": [],
   "source": [
    "import nltk\n",
    "from nltk.corpus import stopwords\n",
    "import pandas as pd\n",
    "import numpy as np\n",
    "import re\n",
    "import string\n",
    "\n",
    "import matplotlib.pyplot as plt"
   ]
  },
  {
   "cell_type": "markdown",
   "metadata": {},
   "source": [
    "## String\n",
    "\n",
    "Los string son una secuencia de caractéres y los caractéres son símbolos como por ejemplo:'-', 'a', '1', '\\n'; etc..\n",
    "Como los computadores entienden en binario, el proceso de pasar a un simbolo (caracter) se llama **codificar** y de un simbolo a bianrio **decodificar**. Las más usadas forma conversión son [ACII](http://www.asciitable.com/) y Unicode.  "
   ]
  },
  {
   "cell_type": "code",
   "execution_count": null,
   "metadata": {},
   "outputs": [],
   "source": [
    "#algo de string\n",
    "string1 = \"\"\n",
    "\n",
    "print(\"la cadena es: {}\".format(string1))"
   ]
  },
  {
   "cell_type": "code",
   "execution_count": null,
   "metadata": {},
   "outputs": [],
   "source": [
    "string2 = \"La bicileta blanca\"\n",
    "print(\"la cadena es: {}\".format(string2))"
   ]
  },
  {
   "cell_type": "code",
   "execution_count": null,
   "metadata": {},
   "outputs": [],
   "source": [
    "string2[0]"
   ]
  },
  {
   "cell_type": "code",
   "execution_count": null,
   "metadata": {},
   "outputs": [],
   "source": [
    "string2[0:2]"
   ]
  },
  {
   "cell_type": "code",
   "execution_count": null,
   "metadata": {},
   "outputs": [],
   "source": [
    "# podría seleccionar bicileta?\n",
    "\n",
    "#string2[??????]"
   ]
  },
  {
   "cell_type": "markdown",
   "metadata": {},
   "source": [
    "## algunas operaciones más con string"
   ]
  },
  {
   "cell_type": "code",
   "execution_count": null,
   "metadata": {},
   "outputs": [],
   "source": [
    "# concatenar string\n",
    "#string1 + string2\n",
    "\n",
    "palabra1 = \"M.A.C.R.I\"\n",
    "palabra2 = ' \"Mente anti capitalista revolucionaria internacional\"'\n",
    "\n",
    "print(\"Las Manos de Filippi tiene un disco que se llama: {}\".format(palabra1 + \": \"+ palabra2))"
   ]
  },
  {
   "cell_type": "code",
   "execution_count": null,
   "metadata": {},
   "outputs": [],
   "source": [
    "S1 = \"HOLA\"\n",
    "S2 = \"COSMOS\"\n",
    "\n",
    "S1 + S2\n",
    "#falta un espacio?"
   ]
  },
  {
   "cell_type": "code",
   "execution_count": null,
   "metadata": {},
   "outputs": [],
   "source": [
    "# no me girtes!!!!\n",
    "s1 = S1.lower()\n",
    "s2 = S2.lower()\n",
    "\n",
    "s1 + \" \" + s2"
   ]
  },
  {
   "cell_type": "code",
   "execution_count": null,
   "metadata": {},
   "outputs": [],
   "source": [
    "#Estrofa: un grupo de versos seguidos de un punto aparte,de un punto seguido o un punto y coma ...\n",
    "versos_cancion = [\"no puedes ser feliz\", \"con tanta gente hablando\", \"hablando a tu alrededor\"]\n",
    "estrofa = \"\"\n",
    "for verso in versos_cancion:\n",
    "    estrofa += verso + \"; \"\n",
    "\n",
    "estrofa"
   ]
  },
  {
   "cell_type": "code",
   "execution_count": null,
   "metadata": {},
   "outputs": [],
   "source": [
    "# y el join\n",
    "\"; \".join(versos_cancion)"
   ]
  },
  {
   "cell_type": "markdown",
   "metadata": {},
   "source": [
    "## leyendo un archivo txt\n",
    "\n",
    "Los archivos se deben leer linea a linea. "
   ]
  },
  {
   "cell_type": "code",
   "execution_count": null,
   "metadata": {},
   "outputs": [],
   "source": [
    "fname = \"data/ante_laley.txt\"\n",
    "cuento = \"\"\n",
    "with open(fname, 'r') as f:\n",
    "    for line in f:\n",
    "        cuento += line\n",
    "        "
   ]
  },
  {
   "cell_type": "code",
   "execution_count": null,
   "metadata": {},
   "outputs": [],
   "source": [
    "#cuán extenso es el relato\n",
    "print(\"El relato tiene {} caracteres\".format(len(cuento)))"
   ]
  },
  {
   "cell_type": "code",
   "execution_count": null,
   "metadata": {},
   "outputs": [],
   "source": [
    "#tokenizar texto\n",
    "\n",
    "token_relato = nltk.word_tokenize(cuento)"
   ]
  },
  {
   "cell_type": "code",
   "execution_count": null,
   "metadata": {},
   "outputs": [],
   "source": [
    "token_relato[:10]"
   ]
  },
  {
   "cell_type": "code",
   "execution_count": null,
   "metadata": {},
   "outputs": [],
   "source": [
    "stopword = stopwords.words('spanish')\n",
    "stopword[:10]"
   ]
  },
  {
   "cell_type": "code",
   "execution_count": null,
   "metadata": {},
   "outputs": [],
   "source": [
    "pd.Series(token_relato).value_counts().head(15)"
   ]
  },
  {
   "cell_type": "code",
   "execution_count": null,
   "metadata": {},
   "outputs": [],
   "source": [
    "# pasndo a minusculas\n",
    "relato =  [ palabra.lower() for palabra in token_relato]"
   ]
  },
  {
   "cell_type": "code",
   "execution_count": null,
   "metadata": {},
   "outputs": [],
   "source": [
    "pd.Series(relato).value_counts().head(15)"
   ]
  },
  {
   "cell_type": "code",
   "execution_count": null,
   "metadata": {},
   "outputs": [],
   "source": [
    "# pasndo a minusculas\n",
    "relato =  [ palabra.lower() for palabra in token_relato if palabra not in stopword]"
   ]
  },
  {
   "cell_type": "code",
   "execution_count": null,
   "metadata": {},
   "outputs": [],
   "source": [
    "pd.Series(relato).value_counts().head(10)"
   ]
  },
  {
   "cell_type": "code",
   "execution_count": null,
   "metadata": {},
   "outputs": [],
   "source": [
    "stopword = stopwords.words('spanish') + list(string.punctuation)\n",
    "stopword[-10:]"
   ]
  },
  {
   "cell_type": "code",
   "execution_count": null,
   "metadata": {},
   "outputs": [],
   "source": [
    "# pasndo a minusculas\n",
    "relato =  [ palabra.lower() for palabra in token_relato if palabra not in stopword]"
   ]
  },
  {
   "cell_type": "code",
   "execution_count": null,
   "metadata": {},
   "outputs": [],
   "source": [
    "relato_serie = pd.Series(relato).value_counts().head(10)"
   ]
  },
  {
   "cell_type": "code",
   "execution_count": null,
   "metadata": {},
   "outputs": [],
   "source": [
    "relato_serie[:5].plot(\"bar\")\n",
    "plt.grid(True)"
   ]
  },
  {
   "cell_type": "code",
   "execution_count": null,
   "metadata": {},
   "outputs": [],
   "source": [
    "total = relato_serie.sum()\n"
   ]
  },
  {
   "cell_type": "code",
   "execution_count": null,
   "metadata": {},
   "outputs": [],
   "source": [
    "freq_relato = relato_serie.div(total) *100\n"
   ]
  },
  {
   "cell_type": "code",
   "execution_count": null,
   "metadata": {},
   "outputs": [],
   "source": [
    "freq_relato.plot(\"bar\")\n",
    "plt.grid(True)"
   ]
  },
  {
   "cell_type": "code",
   "execution_count": null,
   "metadata": {},
   "outputs": [],
   "source": []
  }
 ],
 "metadata": {
  "kernelspec": {
   "display_name": "Python 3",
   "language": "python",
   "name": "python3"
  },
  "language_info": {
   "codemirror_mode": {
    "name": "ipython",
    "version": 2
   },
   "file_extension": ".py",
   "mimetype": "text/x-python",
   "name": "python",
   "nbconvert_exporter": "python",
   "pygments_lexer": "ipython2",
   "version": "2.7.13"
  }
 },
 "nbformat": 4,
 "nbformat_minor": 2
}
