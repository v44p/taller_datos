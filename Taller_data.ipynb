{
 "cells": [
  {
   "cell_type": "markdown",
   "metadata": {},
   "source": [
    "\n",
    "<img src=\"https://i0.wp.com/illuminatiwatcher.com/wp-content/uploads/2014/11/IlluminatiWatcherDotCom-Clockwork-Orange-Alex-All-Seeing-Eye-Snake.jpg\" width=\"400\"  height=\"400\" />\n",
    "\n",
    "\n",
    "\n",
    "\n",
    "\n",
    "\n"
   ]
  },
  {
   "cell_type": "markdown",
   "metadata": {},
   "source": [
    "\n",
    "# Taller de datos\n",
    "\n",
    "Taller introductorio al análisis de datos con python. El grupo es abierto y se presentan tópicos los cuales se van abordando al ritmo y profundidad de las asistentes. Una propuesta es que avanzando en el taller se propongan proyectos a desarrollar.\n",
    "\n",
    "## Información general\n",
    "\n",
    "Para mayor información de instalación, materiales y requisitos mirar el [README](https://github.com/vladimirAvilaProsser/taller_datos) del repo. \n",
    "\n",
    "## Sesiones \n",
    "\n",
    "- [Primera sesión (17/03)](#Primera-sesión)\n",
    "- [Segunda sesión (24/03)](#Segunda-sesión)\n",
    "- [Tercera sesión (29/03)](#Tercera-sesión)\n",
    "\n",
    "\n"
   ]
  },
  {
   "cell_type": "markdown",
   "metadata": {},
   "source": [
    "## Primera sesión\n",
    "\n",
    "**Objetivos:** \n",
    "\n",
    "- Instalar jupiter\n",
    "- Revisar estructuras básicas en python: listas, tuplas, diccionarios.\n",
    "- Fechas y formatos.\n",
    "- Estudiar ciclos y estructuras de control\n"
   ]
  },
  {
   "cell_type": "code",
   "execution_count": null,
   "metadata": {},
   "outputs": [],
   "source": [
    "# listas\n",
    "zeros = [0, 0, 0, 0, 0]\n",
    "unos = [1, 1, 1, 1, 1]\n",
    "zer_uno = [0, 1, 0, 1, \" \"]\n",
    "numeros = [2, 4, 5, 7, 8, 9, 9]"
   ]
  },
  {
   "cell_type": "code",
   "execution_count": null,
   "metadata": {},
   "outputs": [],
   "source": [
    "zeros = [0, 0, 0, 0, 0]\n",
    "zeros"
   ]
  },
  {
   "cell_type": "code",
   "execution_count": null,
   "metadata": {},
   "outputs": [],
   "source": [
    "unos = [1, 1, 1, 1, 1]"
   ]
  },
  {
   "cell_type": "code",
   "execution_count": null,
   "metadata": {},
   "outputs": [],
   "source": [
    "# entrega la primera pos en la lista\n",
    "numeros.index(4)\n",
    "numeros.index(9)\n",
    "numeros.index(9) #error si el elemento no existe"
   ]
  },
  {
   "cell_type": "markdown",
   "metadata": {},
   "source": [
    "La función **index** entrega la posición del elemento que se le pasa"
   ]
  },
  {
   "cell_type": "code",
   "execution_count": null,
   "metadata": {},
   "outputs": [],
   "source": [
    "#dict\n",
    "persona = {\n",
    "    'nombre': 'Luis Alberto Spinetta',\n",
    "    'nacimiento': '23-01-1950',\n",
    "    'muerte': '08-02-2012 ',\n",
    "    'edad': 62,\n",
    "    'profesion': 'músico',\n",
    "    'albúm':'Durazno Sangrando'\n",
    "}\n"
   ]
  },
  {
   "cell_type": "code",
   "execution_count": null,
   "metadata": {},
   "outputs": [],
   "source": [
    "#A los diccionarios se puede acceder mediante su clave o valor. En este caso, la clave 'nombre' va a devolver\n",
    "\n",
    "persona['nombre']"
   ]
  },
  {
   "cell_type": "code",
   "execution_count": null,
   "metadata": {},
   "outputs": [],
   "source": [
    "#tuplas\n",
    "t1 = ('la', 'luz')\n",
    "t2 = ('se', 'duerme')\n",
    "t2"
   ]
  },
  {
   "cell_type": "code",
   "execution_count": null,
   "metadata": {},
   "outputs": [],
   "source": [
    "#fechas\n",
    "#import datetime\n",
    "from datetime import datetime\n",
    "hoy = datetime.now()\n",
    "#si tengo un objeto de fecha\n",
    "#año\n",
    "hoy.strftime(\"%Y\")\n",
    "#dia\n",
    "hoy.strftime(\"%d\")\n",
    "#mes\n",
    "hoy.strftime(\"%m\")\n",
    "\n",
    "hoy.strftime(\"%Y/%m-%d\")\n",
    "\n",
    "#si tengo un string de fecha\n",
    "datetime.strptime(persona['nacimiento'],\"%d-%m-%Y\")\n",
    "\n",
    "\n"
   ]
  },
  {
   "cell_type": "markdown",
   "metadata": {},
   "source": [
    "# Ciclos y estructuras de control"
   ]
  },
  {
   "cell_type": "code",
   "execution_count": null,
   "metadata": {},
   "outputs": [],
   "source": [
    "#if \n",
    "if zeros[0] == 0:\n",
    "    print(\"El valor dado es cero: {}\".format(zeros[0]))\n",
    "    "
   ]
  },
  {
   "cell_type": "code",
   "execution_count": null,
   "metadata": {},
   "outputs": [],
   "source": [
    "#for \n",
    "for dato, valor in persona.items():\n",
    "    print(\"{}: {}\".format(dato, valor))    "
   ]
  },
  {
   "cell_type": "code",
   "execution_count": null,
   "metadata": {},
   "outputs": [],
   "source": [
    "#for y listas \n",
    "numeros = [x for x in range(10)]"
   ]
  },
  {
   "cell_type": "code",
   "execution_count": null,
   "metadata": {},
   "outputs": [],
   "source": [
    "#for, if y listas \n",
    "numeros = [x for x in range(10) if x >3]"
   ]
  },
  {
   "cell_type": "code",
   "execution_count": null,
   "metadata": {},
   "outputs": [],
   "source": [
    "#if elif else - for \n",
    "for num in zer_uno:\n",
    "    if num == 0:\n",
    "        print(\"El valor dado es cero: {}\".format(num))\n",
    "    elif num == 1:\n",
    "        print(\"El valor dado es 1: {}\".format(num))\n",
    "    else:\n",
    "        print(\"El valor dado no es ni cero ni uno: {}\".format(num))"
   ]
  },
  {
   "cell_type": "markdown",
   "metadata": {},
   "source": [
    "# Segunda sesión"
   ]
  },
  {
   "cell_type": "markdown",
   "metadata": {},
   "source": [
    "**Objetivos:** \n",
    "\n",
    "- Entender el concpto de función.\n",
    "- Elaborar una función que toma parámetros.\n",
    "- Elaborar una función que retorne parametros.\n",
    "- Paquetes y módulos\n",
    "- Introducción a numpy"
   ]
  },
  {
   "cell_type": "markdown",
   "metadata": {},
   "source": [
    "## - Funciones\n",
    "\n",
    "En el contexto de programación, una función es un conjunto de instrucciones que se ejecutan al momento de llamar a la función. En python definimos una función\n",
    "\n",
    "```\n",
    "def nombre_funcion(argumentos):\n",
    "    ...instrucciones..\n",
    "    \n",
    "    return\n",
    "```\n"
   ]
  },
  {
   "cell_type": "code",
   "execution_count": null,
   "metadata": {},
   "outputs": [],
   "source": [
    "#dict\n",
    "persona = {\n",
    "    'nombre': 'Luis Alberto Spinetta',\n",
    "    'nacimiento': '23-01-1950',\n",
    "    'muerte': '08-02-2012 ',\n",
    "    'edad': 62,\n",
    "    'profesion': 'músico',\n",
    "    'albúm':'Durazno Sangrando'\n",
    "}"
   ]
  },
  {
   "cell_type": "code",
   "execution_count": null,
   "metadata": {},
   "outputs": [],
   "source": [
    "# funciones\n",
    "\n",
    "def fun_nombre(persona):\n",
    "    frase = \"La persona se llama:\" + \" \" +  persona['nombre']\n",
    "    return frase\n",
    "\n",
    "func_profesion(persona)"
   ]
  },
  {
   "cell_type": "markdown",
   "metadata": {},
   "source": [
    "### Funciones matemáticas\n",
    "\n",
    "Las funciones matemáticas se pueden encontrar en el paquete **math**."
   ]
  },
  {
   "cell_type": "code",
   "execution_count": null,
   "metadata": {},
   "outputs": [],
   "source": [
    "import math as mt"
   ]
  },
  {
   "cell_type": "code",
   "execution_count": null,
   "metadata": {},
   "outputs": [],
   "source": [
    "mt.sin(0) \n"
   ]
  },
  {
   "cell_type": "code",
   "execution_count": null,
   "metadata": {},
   "outputs": [],
   "source": [
    "mt.cos(0)\n"
   ]
  },
  {
   "cell_type": "code",
   "execution_count": null,
   "metadata": {},
   "outputs": [],
   "source": [
    "mt.sqrt(4)"
   ]
  },
  {
   "cell_type": "markdown",
   "metadata": {},
   "source": [
    "**Ejemplo:**\n",
    "\n",
    "La [secuencia de fibonacci](https://en.wikipedia.org/wiki/Fibonacci_number), es aquella que cada elemento es la suma de los dos predecesores:\n",
    "```\n",
    "F_0 = 0\n",
    "F_1 = 1\n",
    "F_n = F_n-1 + F_n-2\n",
    "```\n",
    "\n",
    "<img src=\"https://images.duckduckgo.com/iu/?u=http%3A%2F%2Fwww.netpicks.com%2Fwp-content%2Fuploads%2F2015%2F12%2FHow-I-use-Fibonacci-Retracements-Nautilus-Shell.jpg&f=1\" width=\"400\" height=\"400\" />"
   ]
  },
  {
   "cell_type": "code",
   "execution_count": null,
   "metadata": {},
   "outputs": [],
   "source": [
    "def fibonacci(pos):\n",
    "    if pos == 0:\n",
    "        val = 0\n",
    "    elif pos == 1:\n",
    "        val = 1\n",
    "    else:\n",
    "        val = fibonacci(pos-1) + fibonacci(pos-2)\n",
    "    return val\n",
    "\n",
    "\n",
    "num_fibonacci = [ fibonacci(n) for n in range(10)]\n",
    "num_fibonacci"
   ]
  },
  {
   "cell_type": "markdown",
   "metadata": {},
   "source": [
    "qué tipo de función es la anterior (?)"
   ]
  },
  {
   "cell_type": "markdown",
   "metadata": {},
   "source": [
    "## - Paquetes y modulos :\n",
    "\n",
    "- Modulos: Es un archivo .py que contiene instrucciones y definiciones\n",
    "- Paquetes: Una forma de estructurar los modulos en python\n",
    "- librería: un término genérico para referirse a un modulo o paquete\n",
    "\n",
    "\n",
    "\n",
    "### Paquete: [numpy](http://www.numpy.org/)\n",
    "\n",
    "El principal objeto en python es un arreglo homogeneo multidimensional .\n",
    "\n",
    "```\n",
    "[[1, 2, 3],\n",
    "[4, 5, 6]]\n",
    "\n",
    "```\n",
    "\n"
   ]
  },
  {
   "cell_type": "code",
   "execution_count": null,
   "metadata": {},
   "outputs": [],
   "source": [
    "# importar la librería numpy como np\n",
    "import numpy as np"
   ]
  },
  {
   "cell_type": "code",
   "execution_count": null,
   "metadata": {},
   "outputs": [],
   "source": [
    "np.array([[1, 2], [3, 4]])\n",
    "np.arange(24)\n"
   ]
  },
  {
   "cell_type": "code",
   "execution_count": null,
   "metadata": {},
   "outputs": [],
   "source": [
    "a = np.arange(24).reshape(4, 6)"
   ]
  },
  {
   "cell_type": "code",
   "execution_count": null,
   "metadata": {},
   "outputs": [],
   "source": [
    "# como es mi array\n",
    "a.shape"
   ]
  },
  {
   "cell_type": "code",
   "execution_count": null,
   "metadata": {},
   "outputs": [],
   "source": [
    "type(a)"
   ]
  },
  {
   "cell_type": "code",
   "execution_count": null,
   "metadata": {},
   "outputs": [],
   "source": [
    "b = np.array([1.2, 3.5, 5.1])"
   ]
  },
  {
   "cell_type": "code",
   "execution_count": null,
   "metadata": {},
   "outputs": [],
   "source": [
    "#zeros\n",
    "np.zeros(5)"
   ]
  },
  {
   "cell_type": "code",
   "execution_count": null,
   "metadata": {},
   "outputs": [],
   "source": [
    "np.ones(5)"
   ]
  },
  {
   "cell_type": "code",
   "execution_count": null,
   "metadata": {},
   "outputs": [],
   "source": [
    "np.random.randint(5, size=(5))"
   ]
  },
  {
   "cell_type": "code",
   "execution_count": null,
   "metadata": {},
   "outputs": [],
   "source": [
    "#números seudo aleatorios de la libería np, modulo random, función randint\n",
    "2.5 * (np.random.randint(5, 8, size=(1, 2)) - 1) / 4."
   ]
  },
  {
   "cell_type": "code",
   "execution_count": null,
   "metadata": {},
   "outputs": [],
   "source": [
    "# números aleatorios de la dist normal\n",
    "numeros = np.random.randn(2, 4)\n",
    "numeros.shape"
   ]
  },
  {
   "cell_type": "code",
   "execution_count": null,
   "metadata": {},
   "outputs": [],
   "source": [
    "np.cos(0) + np.sin(0)"
   ]
  },
  {
   "cell_type": "markdown",
   "metadata": {},
   "source": [
    "# Tercera Sesión"
   ]
  },
  {
   "cell_type": "markdown",
   "metadata": {},
   "source": [
    "**Objetivos:** \n",
    "\n",
    "- Conocer y aplicar un *serie* en *pandas*.\n",
    "- Realizar slice en las series.\n",
    "- Conocer y aplicar un *dataframe*.\n",
    "- Realizar slice en los dataframe\n"
   ]
  },
  {
   "cell_type": "markdown",
   "metadata": {},
   "source": [
    "### Paquete [pandas]()\n",
    "\n",
    "Para instalar pandas:\n",
    "\n",
    "`\n",
    "pip install pandas\n",
    "`\n",
    "\n",
    "links:\n",
    "\n",
    "- [documentación](https://pandas.pydata.org/pandas-docs/stable/index.html)\n",
    "- [cookbook](https://pandas.pydata.org/pandas-docs/stable/cookbook.html)"
   ]
  },
  {
   "cell_type": "code",
   "execution_count": null,
   "metadata": {},
   "outputs": [],
   "source": [
    "import pandas as pd"
   ]
  },
  {
   "cell_type": "markdown",
   "metadata": {},
   "source": [
    "### Series\n",
    "\n",
    "Las series son arreglos de una dimensión que puede contener datos de cualquier tipo y los datos están etiquetados por un indice, lo que hace fácil que sea fácil buscar un subconjunto de valores dentro de una *serie*. \n"
   ]
  },
  {
   "cell_type": "code",
   "execution_count": null,
   "metadata": {},
   "outputs": [],
   "source": [
    "#generamos un array de (1, 10)\n",
    "data = np.random.randn(5) + 3\n",
    "pd.Series(data)\n",
    "\n",
    "letras = ['a', 'b', 'c', 'd', 'e']\n",
    "pd.Series(data, index=letras)\n"
   ]
  },
  {
   "cell_type": "code",
   "execution_count": null,
   "metadata": {},
   "outputs": [],
   "source": [
    "#librería string\n",
    "import string\n",
    "\n",
    "letras = string.ascii_letters\n",
    "\n",
    "data = np.random.randn(20)\n",
    "\n",
    "S = pd.Series(data, index=letras[:20]); S #error ¿?"
   ]
  },
  {
   "cell_type": "code",
   "execution_count": null,
   "metadata": {},
   "outputs": [],
   "source": [
    "#Serie desde un diccionario\n",
    "data = {'a' : 0., 'b' : 1., 'c' : 2.}\n",
    "serie_dict = pd.Series(data)\n",
    "serie_dict"
   ]
  },
  {
   "cell_type": "code",
   "execution_count": null,
   "metadata": {},
   "outputs": [],
   "source": [
    "# un indice que no está \n",
    "pd.Series(serie_dict,index=['b','c','d','a'])"
   ]
  },
  {
   "cell_type": "code",
   "execution_count": null,
   "metadata": {},
   "outputs": [],
   "source": [
    "#slicing\n",
    "\n",
    "S[:2] + 2\n",
    "\n",
    "S.iloc[0:3]\n",
    "S.loc[0:3] # falta una i (?) \n",
    "\n",
    "#filtrar de la d a hasta la k\n",
    "\n",
    "start = letras.index('d')\n",
    "end = letras.index('k')\n",
    "S.iloc[start:end] # y la k ??"
   ]
  },
  {
   "cell_type": "code",
   "execution_count": null,
   "metadata": {},
   "outputs": [],
   "source": [
    "letras_series = pd.Series(list(letras))\n",
    "letras_sample = letras_series.sample(15, replace=True)\n",
    "letras_sample.value_counts()"
   ]
  },
  {
   "cell_type": "code",
   "execution_count": null,
   "metadata": {},
   "outputs": [],
   "source": [
    "letras_sample.sort_index()"
   ]
  },
  {
   "cell_type": "code",
   "execution_count": null,
   "metadata": {},
   "outputs": [],
   "source": [
    "# < 0\n",
    "S[S<0]\n",
    "\n",
    "S[S> S.mean()]\n",
    "S[S> S.median()]\n",
    "\n",
    "#sort \n",
    "S.sort_values()"
   ]
  },
  {
   "cell_type": "code",
   "execution_count": null,
   "metadata": {},
   "outputs": [],
   "source": [
    "#series y diccionarios\n",
    "pd.Series(persona)\n",
    "\n",
    "l_num = {\n",
    "    'a':1,\n",
    "    'b':2,\n",
    "    'c':-1\n",
    "}\n",
    "\n",
    "pd.Series(l_num)"
   ]
  },
  {
   "cell_type": "code",
   "execution_count": null,
   "metadata": {},
   "outputs": [],
   "source": [
    "pd.Series(l_num, index=list(letras[:10])) #??"
   ]
  },
  {
   "cell_type": "code",
   "execution_count": null,
   "metadata": {},
   "outputs": [],
   "source": [
    "#filtrando Nan\n",
    "pd.Series(l_num, index=list(letras[:10])).dropna()"
   ]
  },
  {
   "cell_type": "markdown",
   "metadata": {},
   "source": [
    "### Dataframe"
   ]
  },
  {
   "cell_type": "markdown",
   "metadata": {},
   "source": [
    "<img src=\"https://www.tutorialspoint.com/python_pandas/images/structure_table.jpg\" width=\"400\" height=\"400\" />"
   ]
  },
  {
   "cell_type": "code",
   "execution_count": null,
   "metadata": {},
   "outputs": [],
   "source": [
    "#Dataframe desde dos series, ejemplo de la documentacion\n",
    "\n",
    "d = {'one' : pd.Series([1, 2, 3], index=['a', 'b', 'c']),\n",
    "'two' : pd.Series([4, 5, 6, 7], index=['a', 'b', 'c', 'd'])}"
   ]
  },
  {
   "cell_type": "code",
   "execution_count": null,
   "metadata": {},
   "outputs": [],
   "source": [
    "pd.DataFrame(d)"
   ]
  },
  {
   "cell_type": "code",
   "execution_count": null,
   "metadata": {},
   "outputs": [],
   "source": [
    "#Data frame desde un array \n",
    "data = np.arange(24).reshape(4, 6)\n",
    "pd.DataFrame(data, columns=['a', 'b', 'c', 'd', 'e', 'f'])\n"
   ]
  },
  {
   "cell_type": "code",
   "execution_count": null,
   "metadata": {},
   "outputs": [],
   "source": [
    "#... desde un dict ...(?)\n",
    "\n",
    "dic = {\n",
    "    'dia 1': 50,\n",
    "    'dia 2': 60,\n",
    "    'dia 3': 70,\n",
    "    'dia 4': 20\n",
    "}\n",
    "\n",
    "pd.DataFrame(list(dic.values()), columns=['cantidad'], index=list(dic.keys()))\n"
   ]
  },
  {
   "cell_type": "code",
   "execution_count": null,
   "metadata": {},
   "outputs": [],
   "source": [
    "data = np.random.randint(20,60, size=(6, 4))"
   ]
  },
  {
   "cell_type": "code",
   "execution_count": null,
   "metadata": {},
   "outputs": [],
   "source": [
    "#slice\n",
    "dias = ['dia1', 'dia2', 'dia3', 'dia4', 'dia5', 'dia6' ]\n",
    "mediciones = pd.DataFrame(data, columns=['TP', 'HR', 'LZ', 'HS'], index=dias)"
   ]
  },
  {
   "cell_type": "code",
   "execution_count": null,
   "metadata": {},
   "outputs": [],
   "source": [
    "mediciones[mediciones.TP > 30]"
   ]
  },
  {
   "cell_type": "code",
   "execution_count": null,
   "metadata": {},
   "outputs": [],
   "source": [
    "mediciones.loc['dia1'][['TP', 'HR']]"
   ]
  },
  {
   "cell_type": "code",
   "execution_count": null,
   "metadata": {},
   "outputs": [],
   "source": [
    "mediciones.iloc[1:3][['TP', 'HR']]"
   ]
  },
  {
   "cell_type": "code",
   "execution_count": null,
   "metadata": {},
   "outputs": [],
   "source": [
    "mediciones.ix[[1,4], [0, 2]]"
   ]
  },
  {
   "cell_type": "markdown",
   "metadata": {},
   "source": [
    "### Importar y exportar datos\n",
    "\n",
    "En esta sección trabajaremos con la carpeta *data* del git. Los datos son obtenidos de \n",
    "\n",
    "Pandas posee diferentes métodos para importar datos. Uno de ellos es:\n",
    "\n",
    "`\n",
    "pd.read_csv\n",
    "`\n",
    "\n",
    "Con esto pandas importa un archivo csv y lo almacena como dataframe"
   ]
  },
  {
   "cell_type": "code",
   "execution_count": null,
   "metadata": {},
   "outputs": [],
   "source": [
    "data_fem = pd.read_csv(\"data/registro_femicidios/registro-de-femicidios-2017-08-29.csv\")"
   ]
  },
  {
   "cell_type": "code",
   "execution_count": null,
   "metadata": {},
   "outputs": [],
   "source": [
    "#head\n",
    "data_fem.head()"
   ]
  },
  {
   "cell_type": "markdown",
   "metadata": {},
   "source": [
    "Algunas consultas para la próxima sesión. Según este registro:\n",
    "\n",
    "- ¿cuál es el promedio de edad de las victimas?\n",
    "- ¿qué provincias son las que presentan mayor cantidad de femicidios?\n",
    "- ¿eistirá alguna relación con el día, la fecha ...?"
   ]
  },
  {
   "cell_type": "markdown",
   "metadata": {},
   "source": [
    "..continuará..."
   ]
  },
  {
   "cell_type": "code",
   "execution_count": null,
   "metadata": {},
   "outputs": [],
   "source": []
  }
 ],
 "metadata": {
  "kernelspec": {
   "display_name": "Python 3",
   "language": "python",
   "name": "python3"
  },
  "language_info": {
   "codemirror_mode": {
    "name": "ipython",
    "version": 3
   },
   "file_extension": ".py",
   "mimetype": "text/x-python",
   "name": "python",
   "nbconvert_exporter": "python",
   "pygments_lexer": "ipython3",
   "version": "3.5.3"
  }
 },
 "nbformat": 4,
 "nbformat_minor": 2
}
