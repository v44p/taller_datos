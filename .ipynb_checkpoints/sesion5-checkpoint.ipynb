{
 "cells": [
  {
   "cell_type": "markdown",
   "metadata": {},
   "source": [
    "# Quinta sesión"
   ]
  },
  {
   "cell_type": "markdown",
   "metadata": {},
   "source": [
    "**Objetivos:** \n",
    "\n",
    "- Revisar formatos de texto: json, csv, tab...\n",
    "- leer archivos de texto\n",
    "- leer un tweets\n",
    "- instalar api twitter\n",
    "- Instalar tweepy"
   ]
  },
  {
   "cell_type": "markdown",
   "metadata": {},
   "source": [
    "### Formatos de texto\n",
    "\n",
    "</p>Existen muchos, demasiados formatos de texto, a lo largo de la historia y para diferentes uso. Hoy en día, en lo que respecta al análisis de datos, tenemos dos formatos importantes: csv y json. </p>"
   ]
  },
  {
   "cell_type": "markdown",
   "metadata": {},
   "source": [
    "## Formato JSON\n",
    "\n",
    "<img src=\"https://images.duckduckgo.com/iu/?u=https%3A%2F%2Fmedia1.tenor.com%2Fimages%2F575a2951f6c723fa4049307c078970f4%2Ftenor.gif%3Fitemid%3D6768990&f=1\" width=\"400\"  height=\"400\" />\n",
    "\n",
    "JSON no JASON !!"
   ]
  },
  {
   "cell_type": "markdown",
   "metadata": {},
   "source": [
    "JavaScript Object Notation (JSON) es un formato de texto ligero que sirve para transmitir datos. En python se puede trabajar de diversas formas, pero nos fijaremos en dos. Y para ello debemos importar la librería **json**\n",
    "\n",
    "- Codificar : json.dumps()\n",
    "- Decodificar: json.loads()\n"
   ]
  },
  {
   "cell_type": "code",
   "execution_count": null,
   "metadata": {},
   "outputs": [],
   "source": [
    "import json"
   ]
  },
  {
   "cell_type": "code",
   "execution_count": null,
   "metadata": {},
   "outputs": [],
   "source": [
    "{\n",
    "    \"nombre\": \"Jhon\",\n",
    "    \"apellido\": \"Coltrane\",\n",
    "    \"nacimiento\":{\n",
    "        \"dia\":23,\n",
    "        \"mes\":\"septiembre\",\n",
    "        \"año\":1926},\n",
    "    \"nacionalidad\": \"EEUU\",\n",
    "    \"profesion\":\"saxofonista\",\n",
    "    \"discos\":[\n",
    "        {\n",
    "            \"nombre\":\"Blue Train\",\n",
    "            \"fecha\":1957\n",
    "        },\n",
    "        {\n",
    "            \"nombre\":\"My Favorite Things\",\n",
    "            \"fecha\": 1960\n",
    "        },\n",
    "        {\n",
    "            \"nombre\":\"Kind Of Blue\",\n",
    "            \"fecha\": 1959\n",
    "        },\n",
    "        {\n",
    "            \"nombre\": \"A Love Supreme \",\n",
    "            \"fecha\":1964\n",
    "        }\n",
    "    ],\n",
    "    \"genero músical\": \"jazz\",\n",
    "}"
   ]
  },
  {
   "cell_type": "code",
   "execution_count": null,
   "metadata": {},
   "outputs": [],
   "source": [
    "musico = json.dumps({\n",
    "    \"nombre\": \"Jhon\",\n",
    "    \"apellido\": \"Coltrane\",\n",
    "    \"nacimiento\":{\n",
    "        \"dia\":23,\n",
    "        \"mes\":\"septiembre\",\n",
    "        \"año\":1926},\n",
    "    \"nacionalidad\": \"EEUU\",\n",
    "    \"profesion\":\"saxofonista\",\n",
    "    \"discos\":[\n",
    "        {\n",
    "            \"nombre\":\"Blue Train\",\n",
    "            \"fecha\":1957\n",
    "        },\n",
    "        {\n",
    "            \"nombre\":\"My Favorite Things\",\n",
    "            \"fecha\": 1960\n",
    "        },\n",
    "        {\n",
    "            \"nombre\":\"Kind Of Blue\",\n",
    "            \"fecha\": 1959\n",
    "        },\n",
    "        {\n",
    "            \"nombre\": \"A Love Supreme \",\n",
    "            \"fecha\":1964\n",
    "        }\n",
    "    ],\n",
    "    \"genero músical\": \"jazz\",\n",
    "})"
   ]
  },
  {
   "cell_type": "code",
   "execution_count": null,
   "metadata": {},
   "outputs": [],
   "source": [
    "json.loads(musico).get('discos')[0]"
   ]
  },
  {
   "cell_type": "code",
   "execution_count": null,
   "metadata": {},
   "outputs": [],
   "source": [
    "#Wiki ejemplo !!! yupiii \n",
    "\n",
    "ejemplo_json = json.dumps({\n",
    "  \"firstName\": \"John\",\n",
    "  \"lastName\": \"Smith\",\n",
    "  \"isAlive\": \"true\",\n",
    "  \"age\": 27,\n",
    "  \"address\": {\n",
    "    \"streetAddress\": \"21 2nd Street\",\n",
    "    \"city\": \"New York\",\n",
    "    \"state\": \"NY\",\n",
    "    \"postalCode\": \"10021-3100\"\n",
    "  },\n",
    "  \"phoneNumbers\": [\n",
    "    {\n",
    "      \"type\": \"home\",\n",
    "      \"number\": \"212 555-1234\"\n",
    "    },\n",
    "    {\n",
    "      \"type\": \"office\",\n",
    "      \"number\": \"646 555-4567\"\n",
    "    },\n",
    "    {\n",
    "      \"type\": \"mobile\",\n",
    "      \"number\": \"123 456-7890\"\n",
    "    }\n",
    "  ],\n",
    "  \"children\": [],\n",
    "  \"spouse\": \"null\"\n",
    "})"
   ]
  },
  {
   "cell_type": "code",
   "execution_count": null,
   "metadata": {},
   "outputs": [],
   "source": [
    "#El numero de oficina cual es ?\n",
    "numero = json.loads(ejemplo_json).get('phoneNumbers')[1].get('number')\n",
    "print(numero)"
   ]
  },
  {
   "cell_type": "markdown",
   "metadata": {},
   "source": [
    "### Formato CSV\n",
    "\n",
    "Formato separados por comas.  ... requiere mayor explicación ? \n",
    "\n",
    "\n",
    "**Ejemplo ** \n",
    "\n",
    "nombre, apelllido, nacimiento, disco, fecha  \n",
    "jhon, coltrane, 23-septiembre-1926, i love supreme, 1964  \n",
    "jhon, coltrane, 23-septiembre-1926, My Favorite Things, 1960  \n",
    "\n",
    "...\n",
    "\n",
    "Los archivos se pueden leer mediante la sintaxis antes vista de caracter a caracter siguiendo cada una de las lineas\n",
    "<code>\n",
    "whit open(\"archivo\", 'r') as f:      \n",
    "</code>\n",
    "\n",
    "No obstante, retomaremos algo visto en la segunda sesión, mediante pandas"
   ]
  },
  {
   "cell_type": "code",
   "execution_count": null,
   "metadata": {},
   "outputs": [],
   "source": [
    "import pandas as pd"
   ]
  },
  {
   "cell_type": "code",
   "execution_count": null,
   "metadata": {},
   "outputs": [],
   "source": [
    "data = pd.read_csv( \"data/registro-de-femicidios-2018-02-05.csv\")"
   ]
  },
  {
   "cell_type": "code",
   "execution_count": null,
   "metadata": {},
   "outputs": [],
   "source": [
    "data.head()"
   ]
  },
  {
   "cell_type": "markdown",
   "metadata": {},
   "source": [
    "## Como leer un tweet ?\n",
    "\n",
    "La api de twitter entrega cada tweet como un jsonl, es decir, un json or linea. Por ende habría que mezclar:\n",
    "\n",
    "<code>\n",
    "    with open(fname, 'r') as f\n",
    "        for line in f:\n",
    "            tweet = json.loads(line)\n",
    "</code>"
   ]
  },
  {
   "cell_type": "code",
   "execution_count": null,
   "metadata": {},
   "outputs": [],
   "source": [
    "with open(\"data/tweet/user_@carmenpolledo.jsonl\", 'r') as f:\n",
    "    for line in f:\n",
    "        tweet = json.loads(line)\n",
    "        texto = tweet.get('text')\n",
    "        break"
   ]
  },
  {
   "cell_type": "code",
   "execution_count": null,
   "metadata": {},
   "outputs": [],
   "source": [
    "tweet"
   ]
  },
  {
   "cell_type": "code",
   "execution_count": null,
   "metadata": {},
   "outputs": [],
   "source": []
  },
  {
   "cell_type": "code",
   "execution_count": null,
   "metadata": {},
   "outputs": [],
   "source": [
    "#from collections import Counter, defaultdict\n",
    "#terminos = Counter()"
   ]
  }
 ],
 "metadata": {
  "kernelspec": {
   "display_name": "Python 3",
   "language": "python",
   "name": "python3"
  },
  "language_info": {
   "codemirror_mode": {
    "name": "ipython",
    "version": 3
   },
   "file_extension": ".py",
   "mimetype": "text/x-python",
   "name": "python",
   "nbconvert_exporter": "python",
   "pygments_lexer": "ipython3",
   "version": "3.5.3"
  }
 },
 "nbformat": 4,
 "nbformat_minor": 2
}
