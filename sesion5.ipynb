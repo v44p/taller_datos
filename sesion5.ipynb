{
 "cells": [
  {
   "cell_type": "markdown",
   "metadata": {},
   "source": [
    "# Quinta sesión"
   ]
  },
  {
   "cell_type": "markdown",
   "metadata": {},
   "source": [
    "**Objetivos:** \n",
    "\n",
    "- Revisar formatos de texto: json, csv, tab...\n",
    "- leer archivos de texto\n",
    "- leer un tweets\n",
    "- instalar api twitter\n",
    "- Instalar tweepy"
   ]
  },
  {
   "cell_type": "markdown",
   "metadata": {},
   "source": [
    "### Formatos de texto\n",
    "\n",
    "</p>Existen muchos, demasiados formatos de texto, a lo largo de la historia y para diferentes uso. Hoy en día, en lo que respecta al análisis de datos, tenemos dos formatos importantes: csv y json. </p>"
   ]
  },
  {
   "cell_type": "markdown",
   "metadata": {},
   "source": [
    "## Formato JSON\n",
    "\n",
    "<img src=\"https://images.duckduckgo.com/iu/?u=https%3A%2F%2Fmedia1.tenor.com%2Fimages%2F575a2951f6c723fa4049307c078970f4%2Ftenor.gif%3Fitemid%3D6768990&f=1\" width=\"400\"  height=\"400\" />\n",
    "\n",
    "JSON no JASON !!"
   ]
  },
  {
   "cell_type": "markdown",
   "metadata": {},
   "source": [
    "JavaScript Object Notation (JSON) es un formato de texto ligero que sirve para transmitir datos. En python se puede trabajar de diversas formas, pero nos fijaremos en dos. Y para ello debemos importar la librería **json**\n",
    "\n",
    "- Codificar : json.dumps()\n",
    "- Decodificar: json.loads()\n"
   ]
  },
  {
   "cell_type": "code",
   "execution_count": 1,
   "metadata": {},
   "outputs": [],
   "source": [
    "import json"
   ]
  },
  {
   "cell_type": "code",
   "execution_count": 3,
   "metadata": {},
   "outputs": [
    {
     "data": {
      "text/plain": [
       "{'apellido': 'Coltrane',\n",
       " 'discos': [{'fecha': 1957, 'nombre': 'Blue Train'},\n",
       "  {'fecha': 1960, 'nombre': 'My Favorite Things'},\n",
       "  {'fecha': 1959, 'nombre': 'Kind Of Blue'},\n",
       "  {'fecha': 1964, 'nombre': 'A Love Supreme '}],\n",
       " 'genero músical': 'jazz',\n",
       " 'nacimiento': {'año': 1926, 'dia': 23, 'mes': 'septiembre'},\n",
       " 'nacionalidad': 'EEUU',\n",
       " 'nombre': 'Jhon',\n",
       " 'profesion': 'saxofonista'}"
      ]
     },
     "execution_count": 3,
     "metadata": {},
     "output_type": "execute_result"
    }
   ],
   "source": [
    "{\n",
    "    \"nombre\": \"Jhon\",\n",
    "    \"apellido\": \"Coltrane\",\n",
    "    \"nacimiento\":{\n",
    "        \"dia\":23,\n",
    "        \"mes\":\"septiembre\",\n",
    "        \"año\":1926},\n",
    "    \"nacionalidad\": \"EEUU\",\n",
    "    \"profesion\":\"saxofonista\",\n",
    "    \"discos\":[\n",
    "        {\n",
    "            \"nombre\":\"Blue Train\",\n",
    "            \"fecha\":1957\n",
    "        },\n",
    "        {\n",
    "            \"nombre\":\"My Favorite Things\",\n",
    "            \"fecha\": 1960\n",
    "        },\n",
    "        {\n",
    "            \"nombre\":\"Kind Of Blue\",\n",
    "            \"fecha\": 1959\n",
    "        },\n",
    "        {\n",
    "            \"nombre\": \"A Love Supreme \",\n",
    "            \"fecha\":1964\n",
    "        }\n",
    "    ],\n",
    "    \"genero músical\": \"jazz\",\n",
    "}"
   ]
  },
  {
   "cell_type": "code",
   "execution_count": 4,
   "metadata": {},
   "outputs": [],
   "source": [
    "musico = json.dumps({\n",
    "    \"nombre\": \"Jhon\",\n",
    "    \"apellido\": \"Coltrane\",\n",
    "    \"nacimiento\":{\n",
    "        \"dia\":23,\n",
    "        \"mes\":\"septiembre\",\n",
    "        \"año\":1926},\n",
    "    \"nacionalidad\": \"EEUU\",\n",
    "    \"profesion\":\"saxofonista\",\n",
    "    \"discos\":[\n",
    "        {\n",
    "            \"nombre\":\"Blue Train\",\n",
    "            \"fecha\":1957\n",
    "        },\n",
    "        {\n",
    "            \"nombre\":\"My Favorite Things\",\n",
    "            \"fecha\": 1960\n",
    "        },\n",
    "        {\n",
    "            \"nombre\":\"Kind Of Blue\",\n",
    "            \"fecha\": 1959\n",
    "        },\n",
    "        {\n",
    "            \"nombre\": \"A Love Supreme \",\n",
    "            \"fecha\":1964\n",
    "        }\n",
    "    ],\n",
    "    \"genero músical\": \"jazz\",\n",
    "})"
   ]
  },
  {
   "cell_type": "code",
   "execution_count": 7,
   "metadata": {},
   "outputs": [
    {
     "data": {
      "text/plain": [
       "1957"
      ]
     },
     "execution_count": 7,
     "metadata": {},
     "output_type": "execute_result"
    }
   ],
   "source": [
    "json.loads(musico).get('discos')[0].get('fecha')"
   ]
  },
  {
   "cell_type": "code",
   "execution_count": 8,
   "metadata": {},
   "outputs": [],
   "source": [
    "#Wiki ejemplo !!! yupiii \n",
    "\n",
    "ejemplo_json = json.dumps({\n",
    "  \"firstName\": \"John\",\n",
    "  \"lastName\": \"Smith\",\n",
    "  \"isAlive\": \"true\",\n",
    "  \"age\": 27,\n",
    "  \"address\": {\n",
    "    \"streetAddress\": \"21 2nd Street\",\n",
    "    \"city\": \"New York\",\n",
    "    \"state\": \"NY\",\n",
    "    \"postalCode\": \"10021-3100\"\n",
    "  },\n",
    "  \"phoneNumbers\": [\n",
    "    {\n",
    "      \"type\": \"home\",\n",
    "      \"number\": \"212 555-1234\"\n",
    "    },\n",
    "    {\n",
    "      \"type\": \"office\",\n",
    "      \"number\": \"646 555-4567\"\n",
    "    },\n",
    "    {\n",
    "      \"type\": \"mobile\",\n",
    "      \"number\": \"123 456-7890\"\n",
    "    }\n",
    "  ],\n",
    "  \"children\": [],\n",
    "  \"spouse\": \"null\"\n",
    "})"
   ]
  },
  {
   "cell_type": "code",
   "execution_count": 10,
   "metadata": {},
   "outputs": [
    {
     "name": "stdout",
     "output_type": "stream",
     "text": [
      "646 555-4567\n"
     ]
    }
   ],
   "source": [
    "#El numero de oficina cual es ?\n",
    "numero = json.loads(ejemplo_json).get('phoneNumbers')[1].get('number')\n",
    "print(numero)"
   ]
  },
  {
   "cell_type": "markdown",
   "metadata": {},
   "source": [
    "### Formato CSV\n",
    "\n",
    "Formato separados por comas.  ... requiere mayor explicación ? \n",
    "\n",
    "\n",
    "**Ejemplo ** \n",
    "\n",
    "nombre, apelllido, nacimiento, disco, fecha  \n",
    "jhon, coltrane, 23-septiembre-1926, i love supreme, 1964  \n",
    "jhon, coltrane, 23-septiembre-1926, My Favorite Things, 1960  \n",
    "\n",
    "...\n",
    "\n",
    "Los archivos se pueden leer mediante la sintaxis antes vista de caracter a caracter siguiendo cada una de las lineas\n",
    "<code>\n",
    "whit open(\"archivo\", 'r') as f:      \n",
    "</code>\n",
    "\n",
    "No obstante, retomaremos algo visto en la segunda sesión, mediante pandas"
   ]
  },
  {
   "cell_type": "code",
   "execution_count": 11,
   "metadata": {},
   "outputs": [],
   "source": [
    "import pandas as pd"
   ]
  },
  {
   "cell_type": "code",
   "execution_count": 12,
   "metadata": {},
   "outputs": [],
   "source": [
    "data = pd.read_csv( \"data/registro-de-femicidios-2018-02-05.csv\")"
   ]
  },
  {
   "cell_type": "code",
   "execution_count": 13,
   "metadata": {},
   "outputs": [
    {
     "data": {
      "text/html": [
       "<div>\n",
       "<style scoped>\n",
       "    .dataframe tbody tr th:only-of-type {\n",
       "        vertical-align: middle;\n",
       "    }\n",
       "\n",
       "    .dataframe tbody tr th {\n",
       "        vertical-align: top;\n",
       "    }\n",
       "\n",
       "    .dataframe thead th {\n",
       "        text-align: right;\n",
       "    }\n",
       "</style>\n",
       "<table border=\"1\" class=\"dataframe\">\n",
       "  <thead>\n",
       "    <tr style=\"text-align: right;\">\n",
       "      <th></th>\n",
       "      <th>numero</th>\n",
       "      <th>edad</th>\n",
       "      <th>identidad_genero</th>\n",
       "      <th>tipo_victima</th>\n",
       "      <th>lugar_hecho</th>\n",
       "      <th>modalidad_comisiva</th>\n",
       "      <th>fecha_hecho</th>\n",
       "    </tr>\n",
       "  </thead>\n",
       "  <tbody>\n",
       "    <tr>\n",
       "      <th>0</th>\n",
       "      <td>1074</td>\n",
       "      <td>52.0</td>\n",
       "      <td>MUJER</td>\n",
       "      <td>PRINCIPAL</td>\n",
       "      <td>Santa Cruz</td>\n",
       "      <td>ESTRANGULAMIENTO -</td>\n",
       "      <td>2018-05-05</td>\n",
       "    </tr>\n",
       "    <tr>\n",
       "      <th>1</th>\n",
       "      <td>1073</td>\n",
       "      <td>38.0</td>\n",
       "      <td>MUJER</td>\n",
       "      <td>PRINCIPAL</td>\n",
       "      <td>San Luis</td>\n",
       "      <td>GOLPES - AHORCAMIENTO -</td>\n",
       "      <td>2018-01-28</td>\n",
       "    </tr>\n",
       "    <tr>\n",
       "      <th>2</th>\n",
       "      <td>1072</td>\n",
       "      <td>50.0</td>\n",
       "      <td>MUJER</td>\n",
       "      <td>PRINCIPAL</td>\n",
       "      <td>Tucuman</td>\n",
       "      <td>DISPARO DE BALA -</td>\n",
       "      <td>2018-01-24</td>\n",
       "    </tr>\n",
       "    <tr>\n",
       "      <th>3</th>\n",
       "      <td>1071</td>\n",
       "      <td>53.0</td>\n",
       "      <td>MUJER</td>\n",
       "      <td>PRINCIPAL</td>\n",
       "      <td>Buenos Aires</td>\n",
       "      <td>ESTRANGULAMIENTO -</td>\n",
       "      <td>2018-01-22</td>\n",
       "    </tr>\n",
       "    <tr>\n",
       "      <th>4</th>\n",
       "      <td>1070</td>\n",
       "      <td>4.0</td>\n",
       "      <td>MUJER</td>\n",
       "      <td>PRINCIPAL</td>\n",
       "      <td>Córdoba</td>\n",
       "      <td>AHORCAMIENTO - ABUSO SEXUAL -</td>\n",
       "      <td>2018-01-15</td>\n",
       "    </tr>\n",
       "  </tbody>\n",
       "</table>\n",
       "</div>"
      ],
      "text/plain": [
       "   numero  edad identidad_genero tipo_victima   lugar_hecho  \\\n",
       "0    1074  52.0            MUJER    PRINCIPAL    Santa Cruz   \n",
       "1    1073  38.0            MUJER    PRINCIPAL      San Luis   \n",
       "2    1072  50.0            MUJER    PRINCIPAL       Tucuman   \n",
       "3    1071  53.0            MUJER    PRINCIPAL  Buenos Aires   \n",
       "4    1070   4.0            MUJER    PRINCIPAL       Córdoba   \n",
       "\n",
       "              modalidad_comisiva fecha_hecho  \n",
       "0             ESTRANGULAMIENTO -  2018-05-05  \n",
       "1        GOLPES - AHORCAMIENTO -  2018-01-28  \n",
       "2              DISPARO DE BALA -  2018-01-24  \n",
       "3             ESTRANGULAMIENTO -  2018-01-22  \n",
       "4  AHORCAMIENTO - ABUSO SEXUAL -  2018-01-15  "
      ]
     },
     "execution_count": 13,
     "metadata": {},
     "output_type": "execute_result"
    }
   ],
   "source": [
    "data.head()"
   ]
  },
  {
   "cell_type": "markdown",
   "metadata": {},
   "source": [
    "## Como leer un tweet ?\n",
    "\n",
    "La api de twitter entrega cada tweet como un jsonl, es decir, un json or linea. Por ende habría que mezclar:\n",
    "\n",
    "<code>\n",
    "    with open(fname, 'r') as f\n",
    "        for line in f:\n",
    "            tweet = json.loads(line)\n",
    "</code>"
   ]
  },
  {
   "cell_type": "code",
   "execution_count": 2,
   "metadata": {},
   "outputs": [
    {
     "ename": "NameError",
     "evalue": "name 'json' is not defined",
     "output_type": "error",
     "traceback": [
      "\u001b[0;31m---------------------------------------------------------------------------\u001b[0m",
      "\u001b[0;31mNameError\u001b[0m                                 Traceback (most recent call last)",
      "\u001b[0;32m<ipython-input-2-59fd2db34659>\u001b[0m in \u001b[0;36m<module>\u001b[0;34m()\u001b[0m\n\u001b[1;32m      2\u001b[0m \u001b[0;32mwith\u001b[0m \u001b[0mopen\u001b[0m\u001b[0;34m(\u001b[0m\u001b[0;34m\"data/tweet/user_@carmenpolledo.jsonl\"\u001b[0m\u001b[0;34m,\u001b[0m \u001b[0;34m'r'\u001b[0m\u001b[0;34m)\u001b[0m \u001b[0;32mas\u001b[0m \u001b[0mf\u001b[0m\u001b[0;34m:\u001b[0m\u001b[0;34m\u001b[0m\u001b[0m\n\u001b[1;32m      3\u001b[0m     \u001b[0;32mfor\u001b[0m \u001b[0mline\u001b[0m \u001b[0;32min\u001b[0m \u001b[0mf\u001b[0m\u001b[0;34m:\u001b[0m\u001b[0;34m\u001b[0m\u001b[0m\n\u001b[0;32m----> 4\u001b[0;31m         \u001b[0mtweet\u001b[0m \u001b[0;34m=\u001b[0m \u001b[0mjson\u001b[0m\u001b[0;34m.\u001b[0m\u001b[0mloads\u001b[0m\u001b[0;34m(\u001b[0m\u001b[0mline\u001b[0m\u001b[0;34m)\u001b[0m\u001b[0;34m\u001b[0m\u001b[0m\n\u001b[0m\u001b[1;32m      5\u001b[0m         \u001b[0mtexto\u001b[0m \u001b[0;34m=\u001b[0m \u001b[0mtweet\u001b[0m\u001b[0;34m.\u001b[0m\u001b[0mget\u001b[0m\u001b[0;34m(\u001b[0m\u001b[0;34m'text'\u001b[0m\u001b[0;34m)\u001b[0m\u001b[0;34m\u001b[0m\u001b[0m\n\u001b[1;32m      6\u001b[0m         \u001b[0mi\u001b[0m \u001b[0;34m+=\u001b[0m\u001b[0;36m1\u001b[0m\u001b[0;34m\u001b[0m\u001b[0m\n",
      "\u001b[0;31mNameError\u001b[0m: name 'json' is not defined"
     ]
    }
   ],
   "source": [
    "i = 0\n",
    "with open(\"data/tweet/user_@carmenpolledo.jsonl\", 'r') as f:\n",
    "    for line in f:\n",
    "        tweet = json.loads(line)\n",
    "        texto = tweet.get('text')\n",
    "        i +=1"
   ]
  },
  {
   "cell_type": "code",
   "execution_count": 16,
   "metadata": {},
   "outputs": [
    {
     "data": {
      "text/plain": [
       "{'contributors': None,\n",
       " 'coordinates': None,\n",
       " 'created_at': 'Sat Mar 10 12:40:50 +0000 2018',\n",
       " 'entities': {'hashtags': [],\n",
       "  'symbols': [],\n",
       "  'urls': [],\n",
       "  'user_mentions': [{'id': 151953199,\n",
       "    'id_str': '151953199',\n",
       "    'indices': [3, 11],\n",
       "    'name': 'Fundación Pensar',\n",
       "    'screen_name': 'fpensar'},\n",
       "   {'id': 161438782,\n",
       "    'id_str': '161438782',\n",
       "    'indices': [65, 79],\n",
       "    'name': 'Carmen Polledo',\n",
       "    'screen_name': 'carmenpolledo'}]},\n",
       " 'favorite_count': 0,\n",
       " 'favorited': False,\n",
       " 'geo': None,\n",
       " 'id': 972452218413645825,\n",
       " 'id_str': '972452218413645825',\n",
       " 'in_reply_to_screen_name': None,\n",
       " 'in_reply_to_status_id': None,\n",
       " 'in_reply_to_status_id_str': None,\n",
       " 'in_reply_to_user_id': None,\n",
       " 'in_reply_to_user_id_str': None,\n",
       " 'is_quote_status': False,\n",
       " 'lang': 'es',\n",
       " 'place': None,\n",
       " 'retweet_count': 21,\n",
       " 'retweeted': False,\n",
       " 'retweeted_status': {'contributors': None,\n",
       "  'coordinates': None,\n",
       "  'created_at': 'Fri Mar 09 20:14:08 +0000 2018',\n",
       "  'entities': {'hashtags': [],\n",
       "   'symbols': [],\n",
       "   'urls': [{'display_url': 'twitter.com/i/web/status/9…',\n",
       "     'expanded_url': 'https://twitter.com/i/web/status/972203905378586625',\n",
       "     'indices': [117, 140],\n",
       "     'url': 'https://t.co/yRkvrQ5TLm'}],\n",
       "   'user_mentions': [{'id': 161438782,\n",
       "     'id_str': '161438782',\n",
       "     'indices': [52, 66],\n",
       "     'name': 'Carmen Polledo',\n",
       "     'screen_name': 'carmenpolledo'}]},\n",
       "  'favorite_count': 93,\n",
       "  'favorited': False,\n",
       "  'geo': None,\n",
       "  'id': 972203905378586625,\n",
       "  'id_str': '972203905378586625',\n",
       "  'in_reply_to_screen_name': None,\n",
       "  'in_reply_to_status_id': None,\n",
       "  'in_reply_to_status_id_str': None,\n",
       "  'in_reply_to_user_id': None,\n",
       "  'in_reply_to_user_id_str': None,\n",
       "  'is_quote_status': False,\n",
       "  'lang': 'es',\n",
       "  'place': None,\n",
       "  'possibly_sensitive': False,\n",
       "  'retweet_count': 21,\n",
       "  'retweeted': False,\n",
       "  'source': '<a href=\"http://twitter.com/download/iphone\" rel=\"nofollow\">Twitter for iPhone</a>',\n",
       "  'text': 'La diputada nacional por la Ciudad de Buenos Aires, @carmenpolledo es la nueva Presidente de la Fundación Pensar. T… https://t.co/yRkvrQ5TLm',\n",
       "  'truncated': True,\n",
       "  'user': {'contributors_enabled': False,\n",
       "   'created_at': 'Fri Jun 04 17:37:36 +0000 2010',\n",
       "   'default_profile': False,\n",
       "   'default_profile_image': False,\n",
       "   'description': 'Trabajamos en propuestas para enriquecer la mirada de @cambiemos para que cada día tengamos un futuro mejor con más oportunidades.',\n",
       "   'entities': {'description': {'urls': []},\n",
       "    'url': {'urls': [{'display_url': 'fundacionpensar.org',\n",
       "       'expanded_url': 'http://www.fundacionpensar.org',\n",
       "       'indices': [0, 22],\n",
       "       'url': 'http://t.co/rNKqKYSQjL'}]}},\n",
       "   'favourites_count': 25,\n",
       "   'follow_request_sent': False,\n",
       "   'followers_count': 31461,\n",
       "   'following': False,\n",
       "   'friends_count': 2412,\n",
       "   'geo_enabled': False,\n",
       "   'has_extended_profile': False,\n",
       "   'id': 151953199,\n",
       "   'id_str': '151953199',\n",
       "   'is_translation_enabled': False,\n",
       "   'is_translator': False,\n",
       "   'lang': 'es',\n",
       "   'listed_count': 292,\n",
       "   'location': 'Capital Federal, Argentina',\n",
       "   'name': 'Fundación Pensar',\n",
       "   'notifications': False,\n",
       "   'profile_background_color': 'FFCC00',\n",
       "   'profile_background_image_url': 'http://pbs.twimg.com/profile_background_images/662587562/2h2u0vb75wmn95a3kdmf.jpeg',\n",
       "   'profile_background_image_url_https': 'https://pbs.twimg.com/profile_background_images/662587562/2h2u0vb75wmn95a3kdmf.jpeg',\n",
       "   'profile_background_tile': False,\n",
       "   'profile_banner_url': 'https://pbs.twimg.com/profile_banners/151953199/1438798657',\n",
       "   'profile_image_url': 'http://pbs.twimg.com/profile_images/553959243028512768/TRbOZUwN_normal.jpeg',\n",
       "   'profile_image_url_https': 'https://pbs.twimg.com/profile_images/553959243028512768/TRbOZUwN_normal.jpeg',\n",
       "   'profile_link_color': 'FF7700',\n",
       "   'profile_sidebar_border_color': 'FFFFFF',\n",
       "   'profile_sidebar_fill_color': '332C2C',\n",
       "   'profile_text_color': '8A8888',\n",
       "   'profile_use_background_image': True,\n",
       "   'protected': False,\n",
       "   'screen_name': 'fpensar',\n",
       "   'statuses_count': 5609,\n",
       "   'time_zone': 'Buenos Aires',\n",
       "   'translator_type': 'none',\n",
       "   'url': 'http://t.co/rNKqKYSQjL',\n",
       "   'utc_offset': -10800,\n",
       "   'verified': False}},\n",
       " 'source': '<a href=\"http://twitter.com/download/iphone\" rel=\"nofollow\">Twitter for iPhone</a>',\n",
       " 'text': 'RT @fpensar: La diputada nacional por la Ciudad de Buenos Aires, @carmenpolledo es la nueva Presidente de la Fundación Pensar. Trabajando j…',\n",
       " 'truncated': False,\n",
       " 'user': {'contributors_enabled': False,\n",
       "  'created_at': 'Wed Jun 30 21:26:47 +0000 2010',\n",
       "  'default_profile': False,\n",
       "  'default_profile_image': False,\n",
       "  'description': 'DIPUTADA NACIONAL, PRO.(INTERBLOQUE CAMBIEMOS)',\n",
       "  'entities': {'description': {'urls': []}},\n",
       "  'favourites_count': 1570,\n",
       "  'follow_request_sent': False,\n",
       "  'followers_count': 13846,\n",
       "  'following': False,\n",
       "  'friends_count': 585,\n",
       "  'geo_enabled': True,\n",
       "  'has_extended_profile': False,\n",
       "  'id': 161438782,\n",
       "  'id_str': '161438782',\n",
       "  'is_translation_enabled': False,\n",
       "  'is_translator': False,\n",
       "  'lang': 'es',\n",
       "  'listed_count': 108,\n",
       "  'location': 'Buenos Aires, Argentina',\n",
       "  'name': 'Carmen Polledo',\n",
       "  'notifications': False,\n",
       "  'profile_background_color': 'C6E2EE',\n",
       "  'profile_background_image_url': 'http://abs.twimg.com/images/themes/theme2/bg.gif',\n",
       "  'profile_background_image_url_https': 'https://abs.twimg.com/images/themes/theme2/bg.gif',\n",
       "  'profile_background_tile': False,\n",
       "  'profile_banner_url': 'https://pbs.twimg.com/profile_banners/161438782/1499436540',\n",
       "  'profile_image_url': 'http://pbs.twimg.com/profile_images/940345347636973568/oeca_tFN_normal.jpg',\n",
       "  'profile_image_url_https': 'https://pbs.twimg.com/profile_images/940345347636973568/oeca_tFN_normal.jpg',\n",
       "  'profile_link_color': '1F98C7',\n",
       "  'profile_sidebar_border_color': 'FFFFFF',\n",
       "  'profile_sidebar_fill_color': 'DAECF4',\n",
       "  'profile_text_color': '663B12',\n",
       "  'profile_use_background_image': True,\n",
       "  'protected': False,\n",
       "  'screen_name': 'carmenpolledo',\n",
       "  'statuses_count': 5218,\n",
       "  'time_zone': 'Buenos Aires',\n",
       "  'translator_type': 'none',\n",
       "  'url': None,\n",
       "  'utc_offset': -10800,\n",
       "  'verified': False}}"
      ]
     },
     "execution_count": 16,
     "metadata": {},
     "output_type": "execute_result"
    }
   ],
   "source": [
    "tweet"
   ]
  },
  {
   "cell_type": "code",
   "execution_count": 18,
   "metadata": {},
   "outputs": [
    {
     "data": {
      "text/plain": [
       "'RT @fpensar: La diputada nacional por la Ciudad de Buenos Aires, @carmenpolledo es la nueva Presidente de la Fundación Pensar. Trabajando j…'"
      ]
     },
     "execution_count": 18,
     "metadata": {},
     "output_type": "execute_result"
    }
   ],
   "source": [
    "texto"
   ]
  },
  {
   "cell_type": "code",
   "execution_count": null,
   "metadata": {},
   "outputs": [],
   "source": [
    "#from collections import Counter, defaultdict\n",
    "#terminos = Counter()"
   ]
  }
 ],
 "metadata": {
  "kernelspec": {
   "display_name": "Python 3",
   "language": "python",
   "name": "python3"
  },
  "language_info": {
   "codemirror_mode": {
    "name": "ipython",
    "version": 3
   },
   "file_extension": ".py",
   "mimetype": "text/x-python",
   "name": "python",
   "nbconvert_exporter": "python",
   "pygments_lexer": "ipython3",
   "version": "3.5.3"
  }
 },
 "nbformat": 4,
 "nbformat_minor": 2
}
